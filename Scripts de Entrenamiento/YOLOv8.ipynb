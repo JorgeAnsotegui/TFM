{
  "cells": [
    {
      "cell_type": "markdown",
      "metadata": {
        "colab_type": "text",
        "id": "view-in-github"
      },
      "source": [
        "<a href=\"https://colab.research.google.com/github/JorgeAnsotegui/TFM/blob/main/Entrenamiento/Entrenamiento_YoloV8_Varios.ipynb\" target=\"_parent\"><img src=\"https://colab.research.google.com/assets/colab-badge.svg\" alt=\"Open In Colab\"/></a>"
      ]
    },
    {
      "cell_type": "code",
      "execution_count": 7,
      "metadata": {
        "colab": {
          "base_uri": "https://localhost:8080/"
        },
        "id": "SPX35KCLUeba",
        "outputId": "e8c2ebbb-60b4-4951-aa86-afd4f08a2b32"
      },
      "outputs": [
        {
          "name": "stderr",
          "output_type": "stream",
          "text": [
            "[I 2024-09-11 09:27:32,434] A new study created in memory with name: no-name-520c061f-9752-45fa-9d0a-a9975d87c740\n"
          ]
        },
        {
          "name": "stdout",
          "output_type": "stream",
          "text": [
            "CUDA disponible: True\n",
            "Número de dispositivos CUDA disponibles: 1\n",
            "Nombre del dispositivo CUDA actual: Tesla T4\n",
            "Ultralytics YOLOv8.2.91 🚀 Python-3.10.12 torch-2.4.0+cu121 CUDA:0 (Tesla T4, 15102MiB)\n",
            "\u001b[34m\u001b[1mengine/trainer: \u001b[0mtask=segment, mode=train, model=yolov8m-seg.yaml, data=/content/drive/MyDrive/Colab_TFM/dataset/Polipos265_Detectron2FIX_YoloV8/data.yaml, epochs=5, time=None, patience=250, batch=16, imgsz=896, save=True, save_period=-1, cache=False, device=None, workers=9, project=/content/modelos/YoloV8_m_5_fix, name=trial_0, exist_ok=False, pretrained=True, optimizer=SGD, verbose=True, seed=0, deterministic=True, single_cls=False, rect=False, cos_lr=False, close_mosaic=10, resume=False, amp=True, fraction=1.0, profile=False, freeze=None, multi_scale=False, overlap_mask=True, mask_ratio=4, dropout=0.0, val=True, split=val, save_json=False, save_hybrid=False, conf=None, iou=0.7, max_det=300, half=False, dnn=False, plots=True, source=None, vid_stride=1, stream_buffer=False, visualize=False, augment=False, agnostic_nms=False, classes=None, retina_masks=False, embed=None, show=False, save_frames=False, save_txt=False, save_conf=False, save_crop=False, show_labels=True, show_conf=True, show_boxes=True, line_width=None, format=torchscript, keras=False, optimize=False, int8=False, dynamic=False, simplify=False, opset=None, workspace=4, nms=False, lr0=7.920676778211194e-05, lrf=0.01, momentum=0.7499602249493498, weight_decay=0.0001760990697899691, warmup_epochs=300, warmup_momentum=0.6974233953137392, warmup_bias_lr=0.006749351113156628, box=7.5, cls=0.5, dfl=1.5, pose=12.0, kobj=1.0, label_smoothing=0.0, nbs=64, hsv_h=0.015, hsv_s=0.7, hsv_v=0.4, degrees=0.0, translate=0.1, scale=0.5, shear=0.0, perspective=0.0, flipud=0.0, fliplr=0.5, bgr=0.0, mosaic=1.0, mixup=0.0, copy_paste=0.0, auto_augment=randaugment, erasing=0.4, crop_fraction=1.0, cfg=None, tracker=botsort.yaml, save_dir=/content/modelos/YoloV8_m_5_fix/trial_0\n",
            "Overriding model.yaml nc=80 with nc=1\n",
            "\n",
            "                   from  n    params  module                                       arguments                     \n",
            "  0                  -1  1      1392  ultralytics.nn.modules.conv.Conv             [3, 48, 3, 2]                 \n",
            "  1                  -1  1     41664  ultralytics.nn.modules.conv.Conv             [48, 96, 3, 2]                \n",
            "  2                  -1  2    111360  ultralytics.nn.modules.block.C2f             [96, 96, 2, True]             \n",
            "  3                  -1  1    166272  ultralytics.nn.modules.conv.Conv             [96, 192, 3, 2]               \n",
            "  4                  -1  4    813312  ultralytics.nn.modules.block.C2f             [192, 192, 4, True]           \n",
            "  5                  -1  1    664320  ultralytics.nn.modules.conv.Conv             [192, 384, 3, 2]              \n",
            "  6                  -1  4   3248640  ultralytics.nn.modules.block.C2f             [384, 384, 4, True]           \n",
            "  7                  -1  1   1991808  ultralytics.nn.modules.conv.Conv             [384, 576, 3, 2]              \n",
            "  8                  -1  2   3985920  ultralytics.nn.modules.block.C2f             [576, 576, 2, True]           \n",
            "  9                  -1  1    831168  ultralytics.nn.modules.block.SPPF            [576, 576, 5]                 \n",
            " 10                  -1  1         0  torch.nn.modules.upsampling.Upsample         [None, 2, 'nearest']          \n",
            " 11             [-1, 6]  1         0  ultralytics.nn.modules.conv.Concat           [1]                           \n",
            " 12                  -1  2   1993728  ultralytics.nn.modules.block.C2f             [960, 384, 2]                 \n",
            " 13                  -1  1         0  torch.nn.modules.upsampling.Upsample         [None, 2, 'nearest']          \n",
            " 14             [-1, 4]  1         0  ultralytics.nn.modules.conv.Concat           [1]                           \n",
            " 15                  -1  2    517632  ultralytics.nn.modules.block.C2f             [576, 192, 2]                 \n",
            " 16                  -1  1    332160  ultralytics.nn.modules.conv.Conv             [192, 192, 3, 2]              \n",
            " 17            [-1, 12]  1         0  ultralytics.nn.modules.conv.Concat           [1]                           \n",
            " 18                  -1  2   1846272  ultralytics.nn.modules.block.C2f             [576, 384, 2]                 \n",
            " 19                  -1  1   1327872  ultralytics.nn.modules.conv.Conv             [384, 384, 3, 2]              \n",
            " 20             [-1, 9]  1         0  ultralytics.nn.modules.conv.Concat           [1]                           \n",
            " 21                  -1  2   4207104  ultralytics.nn.modules.block.C2f             [960, 576, 2]                 \n",
            " 22        [15, 18, 21]  1   5159603  ultralytics.nn.modules.head.Segment          [1, 32, 192, [192, 384, 576]] \n",
            "YOLOv8m-seg summary: 331 layers, 27,240,227 parameters, 27,240,211 gradients, 110.4 GFLOPs\n",
            "\n",
            "\u001b[34m\u001b[1mTensorBoard: \u001b[0mStart with 'tensorboard --logdir /content/modelos/YoloV8_m_5_fix/trial_0', view at http://localhost:6006/\n",
            "Freezing layer 'model.22.dfl.conv.weight'\n",
            "\u001b[34m\u001b[1mAMP: \u001b[0mrunning Automatic Mixed Precision (AMP) checks with YOLOv8n...\n",
            "\u001b[34m\u001b[1mAMP: \u001b[0mchecks passed ✅\n"
          ]
        },
        {
          "name": "stderr",
          "output_type": "stream",
          "text": [
            "\u001b[34m\u001b[1mtrain: \u001b[0mScanning /content/drive/MyDrive/Colab_TFM/dataset/Polipos265_Detectron2FIX_YoloV8/train/labels.cache... 143 images, 0 backgrounds, 0 corrupt: 100%|██████████| 143/143 [00:00<?, ?it/s]"
          ]
        },
        {
          "name": "stdout",
          "output_type": "stream",
          "text": [
            "\u001b[34m\u001b[1malbumentations: \u001b[0mBlur(p=0.01, blur_limit=(3, 7)), MedianBlur(p=0.01, blur_limit=(3, 7)), ToGray(p=0.01), CLAHE(p=0.01, clip_limit=(1, 4.0), tile_grid_size=(8, 8))\n"
          ]
        },
        {
          "name": "stderr",
          "output_type": "stream",
          "text": [
            "\n",
            "/usr/lib/python3.10/multiprocessing/popen_fork.py:66: RuntimeWarning: os.fork() was called. os.fork() is incompatible with multithreaded code, and JAX is multithreaded, so this will likely lead to a deadlock.\n",
            "  self.pid = os.fork()\n",
            "\u001b[34m\u001b[1mval: \u001b[0mScanning /content/drive/MyDrive/Colab_TFM/dataset/Polipos265_Detectron2FIX_YoloV8/val/labels.cache... 49 images, 0 backgrounds, 0 corrupt: 100%|██████████| 49/49 [00:00<?, ?it/s]\n"
          ]
        },
        {
          "name": "stdout",
          "output_type": "stream",
          "text": [
            "Plotting labels to /content/modelos/YoloV8_m_5_fix/trial_0/labels.jpg... \n",
            "\u001b[34m\u001b[1moptimizer:\u001b[0m SGD(lr=7.920676778211194e-05, momentum=0.7499602249493498) with parameter groups 86 weight(decay=0.0), 97 weight(decay=0.0001760990697899691), 96 bias(decay=0.0)\n",
            "\u001b[34m\u001b[1mTensorBoard: \u001b[0mmodel graph visualization added ✅\n",
            "Image sizes 896 train, 896 val\n",
            "Using 2 dataloader workers\n",
            "Logging results to \u001b[1m/content/modelos/YoloV8_m_5_fix/trial_0\u001b[0m\n",
            "Starting training for 5 epochs...\n",
            "\n",
            "      Epoch    GPU_mem   box_loss   seg_loss   cls_loss   dfl_loss  Instances       Size\n"
          ]
        },
        {
          "name": "stderr",
          "output_type": "stream",
          "text": [
            "        1/5      15.1G      3.132      8.159      4.369      4.231         28        896: 100%|██████████| 9/9 [00:14<00:00,  1.56s/it]\n",
            "                 Class     Images  Instances      Box(P          R      mAP50  mAP50-95)     Mask(P          R      mAP50  mAP50-95): 100%|██████████| 2/2 [00:01<00:00,  1.13it/s]"
          ]
        },
        {
          "name": "stdout",
          "output_type": "stream",
          "text": [
            "                   all         49         52    0.00245      0.692    0.00628    0.00224   0.000204     0.0577   0.000108   2.15e-05\n"
          ]
        },
        {
          "name": "stderr",
          "output_type": "stream",
          "text": [
            "\n"
          ]
        },
        {
          "name": "stdout",
          "output_type": "stream",
          "text": [
            "\n",
            "      Epoch    GPU_mem   box_loss   seg_loss   cls_loss   dfl_loss  Instances       Size\n"
          ]
        },
        {
          "name": "stderr",
          "output_type": "stream",
          "text": [
            "        2/5      15.5G      3.131      6.728      4.261      4.212         34        896: 100%|██████████| 9/9 [00:12<00:00,  1.40s/it]\n",
            "                 Class     Images  Instances      Box(P          R      mAP50  mAP50-95)     Mask(P          R      mAP50  mAP50-95): 100%|██████████| 2/2 [00:02<00:00,  1.27s/it]"
          ]
        },
        {
          "name": "stdout",
          "output_type": "stream",
          "text": [
            "                   all         49         52    0.00252      0.712    0.00557    0.00208    0.00034     0.0962   0.000192   4.13e-05\n"
          ]
        },
        {
          "name": "stderr",
          "output_type": "stream",
          "text": [
            "\n"
          ]
        },
        {
          "name": "stdout",
          "output_type": "stream",
          "text": [
            "\n",
            "      Epoch    GPU_mem   box_loss   seg_loss   cls_loss   dfl_loss  Instances       Size\n"
          ]
        },
        {
          "name": "stderr",
          "output_type": "stream",
          "text": [
            "        3/5      15.4G      3.118      7.511      4.288      4.224         31        896: 100%|██████████| 9/9 [00:12<00:00,  1.34s/it]\n",
            "                 Class     Images  Instances      Box(P          R      mAP50  mAP50-95)     Mask(P          R      mAP50  mAP50-95): 100%|██████████| 2/2 [00:02<00:00,  1.11s/it]"
          ]
        },
        {
          "name": "stdout",
          "output_type": "stream",
          "text": [
            "                   all         49         52    0.00265       0.75     0.0106    0.00317   0.000544      0.154   0.000322   5.86e-05\n"
          ]
        },
        {
          "name": "stderr",
          "output_type": "stream",
          "text": [
            "\n"
          ]
        },
        {
          "name": "stdout",
          "output_type": "stream",
          "text": [
            "\n",
            "      Epoch    GPU_mem   box_loss   seg_loss   cls_loss   dfl_loss  Instances       Size\n"
          ]
        },
        {
          "name": "stderr",
          "output_type": "stream",
          "text": [
            "        4/5      15.5G      3.202      6.607      4.369       4.21         38        896: 100%|██████████| 9/9 [00:12<00:00,  1.34s/it]\n",
            "                 Class     Images  Instances      Box(P          R      mAP50  mAP50-95)     Mask(P          R      mAP50  mAP50-95): 100%|██████████| 2/2 [00:02<00:00,  1.19s/it]"
          ]
        },
        {
          "name": "stdout",
          "output_type": "stream",
          "text": [
            "                   all         49         52    0.00252      0.712    0.00628    0.00239   0.000272     0.0769   0.000147    2.9e-05\n"
          ]
        },
        {
          "name": "stderr",
          "output_type": "stream",
          "text": [
            "\n"
          ]
        },
        {
          "name": "stdout",
          "output_type": "stream",
          "text": [
            "\n",
            "      Epoch    GPU_mem   box_loss   seg_loss   cls_loss   dfl_loss  Instances       Size\n"
          ]
        },
        {
          "name": "stderr",
          "output_type": "stream",
          "text": [
            "        5/5      15.4G      3.185      7.076      4.293      4.228         38        896: 100%|██████████| 9/9 [00:12<00:00,  1.38s/it]\n",
            "                 Class     Images  Instances      Box(P          R      mAP50  mAP50-95)     Mask(P          R      mAP50  mAP50-95): 100%|██████████| 2/2 [00:02<00:00,  1.21s/it]"
          ]
        },
        {
          "name": "stdout",
          "output_type": "stream",
          "text": [
            "                   all         49         52    0.00252      0.712    0.00631    0.00226   0.000204     0.0577   0.000108   2.52e-05\n"
          ]
        },
        {
          "name": "stderr",
          "output_type": "stream",
          "text": [
            "\n"
          ]
        },
        {
          "name": "stdout",
          "output_type": "stream",
          "text": [
            "\n",
            "5 epochs completed in 0.026 hours.\n",
            "Optimizer stripped from /content/modelos/YoloV8_m_5_fix/trial_0/weights/last.pt, 54.9MB\n",
            "Optimizer stripped from /content/modelos/YoloV8_m_5_fix/trial_0/weights/best.pt, 54.9MB\n",
            "\n",
            "Validating /content/modelos/YoloV8_m_5_fix/trial_0/weights/best.pt...\n",
            "Ultralytics YOLOv8.2.91 🚀 Python-3.10.12 torch-2.4.0+cu121 CUDA:0 (Tesla T4, 15102MiB)\n",
            "YOLOv8m-seg summary (fused): 245 layers, 27,222,963 parameters, 0 gradients, 110.0 GFLOPs\n"
          ]
        },
        {
          "name": "stderr",
          "output_type": "stream",
          "text": [
            "                 Class     Images  Instances      Box(P          R      mAP50  mAP50-95)     Mask(P          R      mAP50  mAP50-95): 100%|██████████| 2/2 [00:01<00:00,  1.03it/s]\n"
          ]
        },
        {
          "name": "stdout",
          "output_type": "stream",
          "text": [
            "                   all         49         52    0.00265       0.75    0.00612    0.00228    0.00068      0.192   0.000411   8.09e-05\n",
            "Speed: 0.3ms preprocess, 23.2ms inference, 0.0ms loss, 3.1ms postprocess per image\n",
            "Results saved to \u001b[1m/content/modelos/YoloV8_m_5_fix/trial_0\u001b[0m\n",
            "Antes de validar\n",
            "Ultralytics YOLOv8.2.91 🚀 Python-3.10.12 torch-2.4.0+cu121 CUDA:0 (Tesla T4, 15102MiB)\n",
            "YOLOv8m-seg summary (fused): 245 layers, 27,222,963 parameters, 0 gradients, 110.0 GFLOPs\n"
          ]
        },
        {
          "name": "stderr",
          "output_type": "stream",
          "text": [
            "\u001b[34m\u001b[1mval: \u001b[0mScanning /content/drive/MyDrive/Colab_TFM/dataset/Polipos265_Detectron2FIX_YoloV8/test/labels.cache... 47 images, 0 backgrounds, 0 corrupt: 100%|██████████| 47/47 [00:00<?, ?it/s]\n",
            "/usr/lib/python3.10/multiprocessing/popen_fork.py:66: RuntimeWarning: os.fork() was called. os.fork() is incompatible with multithreaded code, and JAX is multithreaded, so this will likely lead to a deadlock.\n",
            "  self.pid = os.fork()\n",
            "                 Class     Images  Instances      Box(P          R      mAP50  mAP50-95)     Mask(P          R      mAP50  mAP50-95): 100%|██████████| 3/3 [00:03<00:00,  1.16s/it]"
          ]
        },
        {
          "name": "stdout",
          "output_type": "stream",
          "text": [
            "                   all         47         47          0          0          0          0          0          0          0          0\n"
          ]
        },
        {
          "name": "stderr",
          "output_type": "stream",
          "text": [
            "\n"
          ]
        },
        {
          "name": "stdout",
          "output_type": "stream",
          "text": [
            "Speed: 0.4ms preprocess, 48.8ms inference, 0.0ms loss, 2.1ms postprocess per image\n",
            "Results saved to \u001b[1m/content/modelos/YoloV8_m_5_fix/trial_0/Evaluacion\u001b[0m\n"
          ]
        },
        {
          "name": "stderr",
          "output_type": "stream",
          "text": [
            "[I 2024-09-11 09:29:45,394] Trial 0 finished with value: 0.0 and parameters: {'lr0': 7.920676778211194e-05, 'momentum': 0.7499602249493498, 'weight_decay': 0.0001760990697899691, 'warmup_epochs': 300, 'warmup_momentum': 0.6974233953137392, 'warmup_bias_lr': 0.006749351113156628, 'optimizer': 'SGD', 'testing_threshold': 0.5325605291443465, 'batch': 16, 'workers': 9, 'imgsz': 896}. Best is trial 0 with value: 0.0.\n"
          ]
        },
        {
          "name": "stdout",
          "output_type": "stream",
          "text": [
            "Despues de validar\n",
            "Precision: 0.0\n",
            "Recall: 0.0\n",
            "mAP: 0.0\n"
          ]
        }
      ],
      "source": [
        "from ultralytics import YOLO\n",
        "from matplotlib import pyplot as plt\n",
        "from PIL import Image\n",
        "import optuna\n",
        "import locale\n",
        "import os\n",
        "import json\n",
        "import pandas as pd\n",
        "import yaml\n",
        "import torch\n",
        "import cv2\n",
        "import random\n",
        "\n",
        "# Verificación de CUDA\n",
        "print(\"CUDA disponible:\", torch.cuda.is_available())\n",
        "if torch.cuda.is_available():\n",
        "    print(\"Número de dispositivos CUDA disponibles:\", torch.cuda.device_count())\n",
        "    print(\"Nombre del dispositivo CUDA actual:\", torch.cuda.get_device_name())\n",
        "\n",
        "# Hiperparámetros ajustados para YOLO\n",
        "HYPERPARAMETERS = {\n",
        "    'epochs': 10000,\n",
        "    'patience': 250,\n",
        "    'batch': [8, 32],\n",
        "    'workers': [16, 24],\n",
        "    'imgsz': [320, 1024],\n",
        "    'save_period': -1,\n",
        "    'num_trials': 1,\n",
        "    'lr0': [1e-5, 1e-2],\n",
        "    'momentum': [0.7, 0.99],\n",
        "    'weight_decay': [1e-5, 1e-2],\n",
        "    'warmup_epochs': [100, 1000],\n",
        "    'warmup_momentum': [0.0, 0.95],\n",
        "    'warmup_bias_lr': [1e-5, 1e-2],\n",
        "    'optimizer': ['RMSProp', 'Adam', 'SGD'],\n",
        "    'testing_threshold': [0.4, 0.6]\n",
        "}\n",
        "\n",
        "# Combinaciones de datasets y pesos preentrenados\n",
        "combinaciones = [\n",
        "    {\"ruta_resultados\": \"/content/modelos/YoloV8_m_5_fix\", \"archivo_yaml\": \"/content/drive/MyDrive/Colab_TFM/dataset/Polipos265_Detectron2FIX_YoloV8/data.yaml\", \"pre_weights\": \"yolov8m-seg.yaml\"}\n",
        "]\n",
        "\n",
        "# Función objetivo para Optuna\n",
        "def objective(trial, ruta_resultados, archivo_yaml, pre_weights):\n",
        "    lr0 = trial.suggest_float('lr0', HYPERPARAMETERS['lr0'][0], HYPERPARAMETERS['lr0'][1], log=True)\n",
        "    momentum = trial.suggest_float('momentum', HYPERPARAMETERS['momentum'][0], HYPERPARAMETERS['momentum'][1])\n",
        "    weight_decay = trial.suggest_float('weight_decay', HYPERPARAMETERS['weight_decay'][0], HYPERPARAMETERS['weight_decay'][1], log=True)\n",
        "    warmup_epochs = trial.suggest_int('warmup_epochs', HYPERPARAMETERS['warmup_epochs'][0], HYPERPARAMETERS['warmup_epochs'][1])\n",
        "    warmup_momentum = trial.suggest_float('warmup_momentum', HYPERPARAMETERS['warmup_momentum'][0], HYPERPARAMETERS['warmup_momentum'][1])\n",
        "    warmup_bias_lr = trial.suggest_float('warmup_bias_lr', HYPERPARAMETERS['warmup_bias_lr'][0], HYPERPARAMETERS['warmup_bias_lr'][1], log=True)\n",
        "    optimizer = trial.suggest_categorical('optimizer', HYPERPARAMETERS['optimizer'])\n",
        "    testing_threshold = trial.suggest_float('testing_threshold', HYPERPARAMETERS['testing_threshold'][0], HYPERPARAMETERS['testing_threshold'][1])\n",
        "    batch_size = trial.suggest_int('batch', HYPERPARAMETERS['batch'][0], HYPERPARAMETERS['batch'][1], step=8)\n",
        "    workers = trial.suggest_int('workers', HYPERPARAMETERS['workers'][0], HYPERPARAMETERS['workers'][1])\n",
        "    imgsz = trial.suggest_int('imgsz', HYPERPARAMETERS['imgsz'][0], HYPERPARAMETERS['imgsz'][1], step=64)\n",
        "\n",
        "    # Crear una instancia del modelo\n",
        "    model = YOLO(pre_weights)\n",
        "\n",
        "    # Configurar los parámetros de entrenamiento\n",
        "    training_params = {\n",
        "        'data': archivo_yaml,\n",
        "        'project': ruta_resultados,\n",
        "        'name': f\"trial_{trial.number}\",\n",
        "        'epochs': HYPERPARAMETERS['epochs'],\n",
        "        'patience': HYPERPARAMETERS['patience'],\n",
        "        'batch': batch_size,\n",
        "        'imgsz': imgsz,\n",
        "        'lr0': lr0,\n",
        "        'momentum': momentum,\n",
        "        'weight_decay': weight_decay,\n",
        "        'warmup_epochs': warmup_epochs,\n",
        "        'warmup_momentum': warmup_momentum,\n",
        "        'warmup_bias_lr': warmup_bias_lr,\n",
        "        'optimizer': optimizer,\n",
        "        'workers': workers,\n",
        "        'save_period': HYPERPARAMETERS['save_period']\n",
        "    }\n",
        "\n",
        "    # Entrenar el modelo con los hiperparámetros sugeridos\n",
        "    results = model.train(**training_params)\n",
        "\n",
        "    # Definir la ruta para la carpeta del trial\n",
        "    trial_dir = os.path.join(ruta_resultados, f\"trial_{trial.number}\")\n",
        "    if not os.path.exists(trial_dir):\n",
        "        os.makedirs(trial_dir)\n",
        "\n",
        "    # Definir la ruta para la carpeta del trial y el archivo all_metrics.json\n",
        "    model_path = os.path.join(trial_dir, \"weights/best.pt\")\n",
        "\n",
        "    # Cargamos el modelo que se acaba de entrenar\n",
        "    model_segmentation = YOLO(model_path)\n",
        "\n",
        "    # Evaluar el modelo en el conjunto de test con el umbral de confianza especificado\n",
        "    val_params = {\n",
        "        'data': archivo_yaml,\n",
        "        'conf': testing_threshold,\n",
        "        'save_json': True,\n",
        "        'split': \"test\",\n",
        "        'project': trial_dir,\n",
        "        'name': \"Evaluacion\"\n",
        "    }\n",
        "    print(\"Antes de validar\")\n",
        "    test_results = model_segmentation.val(**val_params)\n",
        "    print(\"Despues de validar\")\n",
        "\n",
        "    # Obtener las métricas del modelo\n",
        "    metrics = test_results.results_dict\n",
        "\n",
        "    # Crear un DataFrame con las métricas\n",
        "    df = pd.DataFrame([metrics])\n",
        "\n",
        "    # Extraer y convertir las métricas\n",
        "    precision = df[\"metrics/precision(M)\"].iloc[0]\n",
        "    recall = df[\"metrics/recall(M)\"].iloc[0]\n",
        "    mAP50 = df[\"metrics/mAP50(M)\"].iloc[0]\n",
        "\n",
        "    # Imprimir las métricas para verificar\n",
        "    print(f\"Precision: {precision}\")\n",
        "    print(f\"Recall: {recall}\")\n",
        "    print(f\"mAP: {mAP50}\")\n",
        "\n",
        "    # Crear un diccionario con las métricas relevantes\n",
        "    metrics_row = {\n",
        "        \"Trial\": trial.number,\n",
        "        \"Dataset\": archivo_yaml,\n",
        "        \"Feedback\": \"mAP50\",\n",
        "        \"Pre-Trained_Weights\": pre_weights,\n",
        "        \"metrics\": {\n",
        "            'precision': metrics.get('metrics/precision(M)', 0),\n",
        "            'recall': metrics.get('metrics/recall(M)', 0),\n",
        "            'mAP50': metrics.get('metrics/mAP50(M)', 0),\n",
        "            'mAP50-95': metrics.get('metrics/mAP50-95(M)', 0),\n",
        "            'fitness': metrics.get('fitness', 0)\n",
        "        },\n",
        "        \"hyperparameters\": {\n",
        "            'lr0': lr0,\n",
        "            'epochs': HYPERPARAMETERS['epochs'],\n",
        "            'batch_size': batch_size,\n",
        "            'imgsz': imgsz,\n",
        "            'momentum': momentum,\n",
        "            'weight_decay': weight_decay,\n",
        "            'warmup_epochs': warmup_epochs,\n",
        "            'warmup_momentum': warmup_momentum,\n",
        "            'warmup_bias_lr': warmup_bias_lr,\n",
        "            'optimizer': optimizer,\n",
        "            'workers': workers,\n",
        "            'testing_threshold': testing_threshold\n",
        "        }\n",
        "    }\n",
        "    metrics_path = os.path.join(trial_dir, \"metrics.json\")\n",
        "    with open(metrics_path, 'w') as outfile:\n",
        "        json.dump(metrics_row, outfile)\n",
        "\n",
        "    return mAP50\n",
        "\n",
        "# Bucle para ejecutar el entrenamiento y la optimización para cada combinación de rutas y pesos\n",
        "for combinacion in combinaciones:\n",
        "    ruta_resultados = combinacion[\"ruta_resultados\"]\n",
        "    archivo_yaml = combinacion[\"archivo_yaml\"]\n",
        "    pre_weights = combinacion[\"pre_weights\"]\n",
        "\n",
        "    # Ejecutar la optimización con Optuna\n",
        "    study = optuna.create_study(direction='maximize')\n",
        "    study.optimize(lambda trial: objective(trial, ruta_resultados, archivo_yaml, pre_weights), n_trials=HYPERPARAMETERS['num_trials'])"
      ]
    },
    {
      "cell_type": "code",
      "execution_count": 9,
      "metadata": {
        "colab": {
          "base_uri": "https://localhost:8080/"
        },
        "id": "wRwhnbZHYQD_",
        "outputId": "d2cf84fe-71f9-4fdc-90b6-0c8f1c463314"
      },
      "outputs": [
        {
          "name": "stdout",
          "output_type": "stream",
          "text": [
            "Directorio copiado de /modelos/YoloV8_m_5_fix a /content/drive/MyDrive/Colab_TFM/modelos/YoloV8_m_5_fix\n"
          ]
        }
      ],
      "source": [
        "import shutil\n",
        "# Directorio de origen\n",
        "src_dir = \"/modelos/YoloV8_m_5_fix\"\n",
        "\n",
        "# Directorio de destino\n",
        "dest_dir = \"/content/drive/MyDrive/Colab_TFM/modelos/YoloV8_m_5_fix\"\n",
        "\n",
        "def copy_directory(src, dest):\n",
        "    if not os.path.exists(dest):\n",
        "        os.makedirs(dest)\n",
        "\n",
        "    for root, dirs, files in os.walk(src):\n",
        "        for name in dirs:\n",
        "            src_dir = os.path.join(root, name)\n",
        "            dest_dir = os.path.join(dest, os.path.relpath(src_dir, src))\n",
        "            if not os.path.exists(dest_dir):\n",
        "                os.makedirs(dest_dir)\n",
        "\n",
        "        for name in files:\n",
        "            src_file = os.path.join(root, name)\n",
        "            dest_file = os.path.join(dest, os.path.relpath(src_file, src))\n",
        "            if not os.path.exists(os.path.dirname(dest_file)):\n",
        "                os.makedirs(os.path.dirname(dest_file))\n",
        "            shutil.copy2(src_file, dest_file)\n",
        "\n",
        "# Copiar el directorio de origen al directorio de destino\n",
        "copy_directory(src_dir, dest_dir)\n",
        "\n",
        "print(f\"Directorio copiado de {src_dir} a {dest_dir}\")"
      ]
    }
  ],
  "metadata": {
    "accelerator": "GPU",
    "colab": {
      "authorship_tag": "ABX9TyNojvhlGGU2RYL2NT59y1ot",
      "gpuType": "T4",
      "include_colab_link": true,
      "provenance": []
    },
    "kernelspec": {
      "display_name": "Python 3",
      "name": "python3"
    },
    "language_info": {
      "name": "python"
    }
  },
  "nbformat": 4,
  "nbformat_minor": 0
}
