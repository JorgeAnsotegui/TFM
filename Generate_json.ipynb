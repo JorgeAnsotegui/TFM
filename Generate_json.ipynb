{
  "nbformat": 4,
  "nbformat_minor": 0,
  "metadata": {
    "colab": {
      "provenance": [],
      "gpuType": "T4",
      "authorship_tag": "ABX9TyMRQzXmlZhntLydkz8XIE1q",
      "include_colab_link": true
    },
    "kernelspec": {
      "name": "python3",
      "display_name": "Python 3"
    },
    "language_info": {
      "name": "python"
    },
    "accelerator": "GPU"
  },
  "cells": [
    {
      "cell_type": "markdown",
      "metadata": {
        "id": "view-in-github",
        "colab_type": "text"
      },
      "source": [
        "<a href=\"https://colab.research.google.com/github/JorgeAnsotegui/TFM/blob/main/Generate_json.ipynb\" target=\"_parent\"><img src=\"https://colab.research.google.com/assets/colab-badge.svg\" alt=\"Open In Colab\"/></a>"
      ]
    },
    {
      "cell_type": "code",
      "execution_count": 1,
      "metadata": {
        "colab": {
          "base_uri": "https://localhost:8080/"
        },
        "id": "fJLYj_ZSmtNt",
        "outputId": "60173450-5387-439f-d788-2e2718d818c7"
      },
      "outputs": [
        {
          "output_type": "stream",
          "name": "stdout",
          "text": [
            "Mounted at /content/drive\n",
            "Archivo copiado a: /content/Dataset/Polipos/Polipos Segmentados.zip\n",
            "Archivo descomprimido en: /content/Dataset/Polipos\n"
          ]
        }
      ],
      "source": [
        "from google.colab import drive\n",
        "import shutil\n",
        "import zipfile\n",
        "import os\n",
        "\n",
        "# Montar Google Drive\n",
        "drive.mount('/content/drive')\n",
        "\n",
        "# Definir las rutas de los archivos y directorios\n",
        "source_file = '/content/drive/MyDrive/TFM/Polipos Segmentados.zip'\n",
        "destination_dir = '/content/Dataset/Polipos'\n",
        "\n",
        "# Crear el directorio si no existe\n",
        "if not os.path.exists(destination_dir):\n",
        "    os.makedirs(destination_dir)\n",
        "\n",
        "# Copiar el archivo\n",
        "shutil.copy(source_file, destination_dir)\n",
        "print(f'Archivo copiado a: {os.path.join(destination_dir, os.path.basename(source_file))}')\n",
        "\n",
        "# Descomprimir el archivo ZIP\n",
        "zip_path = os.path.join(destination_dir, os.path.basename(source_file))\n",
        "with zipfile.ZipFile(zip_path, 'r') as zip_ref:\n",
        "    zip_ref.extractall(destination_dir)\n",
        "    print(f'Archivo descomprimido en: {destination_dir}')"
      ]
    },
    {
      "cell_type": "code",
      "source": [
        "import os\n",
        "import shutil\n",
        "from sklearn.model_selection import train_test_split\n",
        "\n",
        "# Definir las rutas de los archivos y directorios\n",
        "source_dir = '/content/Dataset/Polipos/segmentación polipos 265'\n",
        "destination_base_dir = '/content/Dataset/Polipos/TrainValTest'\n",
        "\n",
        "# Crear directorios de destino si no existen\n",
        "train_dir = os.path.join(destination_base_dir, 'train')\n",
        "val_dir = os.path.join(destination_base_dir, 'val')\n",
        "test_dir = os.path.join(destination_base_dir, 'test')\n",
        "\n",
        "os.makedirs(train_dir, exist_ok=True)\n",
        "os.makedirs(val_dir, exist_ok=True)\n",
        "os.makedirs(test_dir, exist_ok=True)\n",
        "\n",
        "# Listar todas las imágenes en el directorio fuente, excluyendo las que terminan en (1).jpg\n",
        "all_images = [f for f in os.listdir(source_dir) if f.endswith('.jpg') and not f.endswith('(1).jpg')]\n",
        "\n",
        "# Dividir las imágenes en train (60%), val (20%), y test (20%)\n",
        "train_images, test_images = train_test_split(all_images, test_size=0.4, random_state=42)\n",
        "val_images, test_images = train_test_split(test_images, test_size=0.5, random_state=42)\n",
        "\n",
        "# Función para copiar imágenes a los directorios correspondientes\n",
        "def copy_images(image_list, destination_dir):\n",
        "    for image in image_list:\n",
        "        source_file = os.path.join(source_dir, image)\n",
        "        destination_file = os.path.join(destination_dir, image)\n",
        "        shutil.copyfile(source_file, destination_file)\n",
        "\n",
        "copy_images(train_images, train_dir)\n",
        "copy_images(val_images, val_dir)\n",
        "copy_images(test_images, test_dir)\n",
        "\n",
        "print(\"División de imágenes completada.\")\n"
      ],
      "metadata": {
        "colab": {
          "base_uri": "https://localhost:8080/"
        },
        "id": "B__RUYfHvyyr",
        "outputId": "d4c776ca-49a4-4dfc-c6b8-226977d5755e"
      },
      "execution_count": 2,
      "outputs": [
        {
          "output_type": "stream",
          "name": "stdout",
          "text": [
            "División de imágenes completada.\n"
          ]
        }
      ]
    },
    {
      "cell_type": "code",
      "source": [
        "import cv2\n",
        "import numpy as np\n",
        "\n",
        "def detect_and_draw_red_vertices(image_path, output_path, distance_threshold=10):\n",
        "    # Cargar la imagen\n",
        "    image = cv2.imread(image_path)\n",
        "\n",
        "    # Convertir la imagen al espacio de color HSV\n",
        "    hsv = cv2.cvtColor(image, cv2.COLOR_BGR2HSV)\n",
        "\n",
        "    # Definir el rango de color amarillo en HSV\n",
        "    lower_yellow = np.array([20, 100, 100])\n",
        "    upper_yellow = np.array([30, 255, 255])\n",
        "\n",
        "    # Crear una máscara para detectar el color amarillo\n",
        "    mask_yellow = cv2.inRange(hsv, lower_yellow, upper_yellow)\n",
        "\n",
        "    # Obtener las posiciones de los píxeles amarillos\n",
        "    yellow_pixels = np.argwhere(mask_yellow == 255)\n",
        "\n",
        "    # Definir el rango de color rojo en HSV\n",
        "    lower_red = np.array([0, 240, 2])\n",
        "    upper_red = np.array([10, 255, 255])\n",
        "\n",
        "    # Crear una máscara para detectar el color rojo\n",
        "    mask_red = cv2.inRange(hsv, lower_red, upper_red)\n",
        "\n",
        "    # Obtener las posiciones de los píxeles rojos\n",
        "    red_pixels = np.argwhere(mask_red == 255)\n",
        "\n",
        "    # Crear una imagen en blanco (255) con las mismas dimensiones que la imagen original\n",
        "    result = np.ones_like(image) * 255\n",
        "\n",
        "    # Iterar sobre los píxeles rojos y pintar en negro si están cerca de los píxeles amarillos\n",
        "    for red_pixel in red_pixels:\n",
        "        for yellow_pixel in yellow_pixels:\n",
        "            distance = np.linalg.norm(red_pixel - yellow_pixel)\n",
        "            if distance <= distance_threshold:\n",
        "                result[red_pixel[0], red_pixel[1]] = [0, 0, 0]\n",
        "                break  # Salir del bucle interno si el píxel rojo está cerca de algún píxel amarillo\n",
        "\n",
        "    # Guardar la imagen resultante\n",
        "    cv2.imwrite(output_path, result)\n",
        "\n",
        "# Ruta de la imagen de prueba\n",
        "image_path = '/content/Dataset/Polipos/TrainValTest/test/100H0013.jpg'\n",
        "\n",
        "# Ruta de salida para la imagen resultante\n",
        "output_path = '/content/prueba_Aristas_V2_13.jpg'\n",
        "\n",
        "# Distancia máxima para considerar que un píxel rojo está cerca de un píxel amarillo\n",
        "distance_threshold = 10\n",
        "\n",
        "# Detectar y dibujar los puntos rojos como vértices en negro y guardar la imagen\n",
        "detect_and_draw_red_vertices(image_path, output_path, distance_threshold)\n",
        "\n",
        "print(f\"Imagen guardada en: {output_path}\")\n"
      ],
      "metadata": {
        "colab": {
          "base_uri": "https://localhost:8080/"
        },
        "id": "AeJlH37a7zlE",
        "outputId": "c2a462a3-e906-46b1-af94-f140c9fa32a7"
      },
      "execution_count": 4,
      "outputs": [
        {
          "output_type": "stream",
          "name": "stdout",
          "text": [
            "Imagen guardada en: /content/prueba_Aristas_V2_13.jpg\n"
          ]
        }
      ]
    }
  ]
}