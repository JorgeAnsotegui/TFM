{
  "nbformat": 4,
  "nbformat_minor": 0,
  "metadata": {
    "colab": {
      "provenance": [],
      "authorship_tag": "ABX9TyPXAYk/99OQwIb6KsUCQAIH",
      "include_colab_link": true
    },
    "kernelspec": {
      "name": "python3",
      "display_name": "Python 3"
    },
    "language_info": {
      "name": "python"
    }
  },
  "cells": [
    {
      "cell_type": "markdown",
      "metadata": {
        "id": "view-in-github",
        "colab_type": "text"
      },
      "source": [
        "<a href=\"https://colab.research.google.com/github/JorgeAnsotegui/TFM/blob/main/Yolo2Coco.ipynb\" target=\"_parent\"><img src=\"https://colab.research.google.com/assets/colab-badge.svg\" alt=\"Open In Colab\"/></a>"
      ]
    },
    {
      "cell_type": "code",
      "execution_count": 1,
      "metadata": {
        "colab": {
          "base_uri": "https://localhost:8080/"
        },
        "id": "u_qwPFlZruwS",
        "outputId": "98e04530-9259-4a96-fed8-d63fc51b5966"
      },
      "outputs": [
        {
          "output_type": "stream",
          "name": "stdout",
          "text": [
            "Mounted at /content/drive\n"
          ]
        }
      ],
      "source": [
        "# Conectar Colab a Google Drive\n",
        "from google.colab import drive\n",
        "drive.mount('/content/drive')"
      ]
    },
    {
      "cell_type": "code",
      "source": [
        "import os\n",
        "import random\n",
        "import shutil\n",
        "import json\n",
        "from PIL import Image\n",
        "import cv2\n",
        "from datetime import datetime\n",
        "\n",
        "# Rutas de las carpetas de imágenes y etiquetas originales\n",
        "images_dir = \"/content/drive/MyDrive/TFM/dataset_Jorge_V2/train/images\"\n",
        "labels_dir = \"/content/drive/MyDrive/TFM/dataset_Jorge_V2/train/labels\"\n",
        "\n",
        "# Ruta principal del dataset final\n",
        "main_dir = \"/content/dataset_MaskRCNN\"\n",
        "\n",
        "# Subcarpetas del dataset final\n",
        "train_dir = os.path.join(main_dir, \"train\")\n",
        "test_dir = os.path.join(main_dir, \"test\")\n",
        "val_dir = os.path.join(main_dir, \"val\")\n",
        "\n",
        "# Rutas de las carpetas de train, test y val para imágenes y etiquetas\n",
        "train_images_dir = os.path.join(train_dir, \"images\")\n",
        "train_labels_dir = os.path.join(train_dir, \"labels\")\n",
        "test_images_dir = os.path.join(test_dir, \"images\")\n",
        "test_labels_dir = os.path.join(test_dir, \"labels\")\n",
        "val_images_dir = os.path.join(val_dir, \"images\")\n",
        "val_labels_dir = os.path.join(val_dir, \"labels\")\n",
        "\n",
        "# Función para crear carpetas si no existen\n",
        "def create_directories_if_not_exist(*directories):\n",
        "    for directory in directories:\n",
        "        os.makedirs(directory, exist_ok=True)\n",
        "\n",
        "# Crear carpetas de train, test y val si no existen\n",
        "create_directories_if_not_exist(train_dir, test_dir, val_dir)\n",
        "create_directories_if_not_exist(train_images_dir, train_labels_dir, test_images_dir, test_labels_dir, val_images_dir, val_labels_dir)\n",
        "\n",
        "# Proporciones para train, test y val\n",
        "train_percent = 0.6\n",
        "test_percent = 0.2\n",
        "val_percent = 0.2\n",
        "\n",
        "# Obtener lista de nombres de archivos de imágenes\n",
        "image_files = os.listdir(images_dir)\n",
        "# Filtrar solo los archivos con extensión .jpg\n",
        "image_files = [file for file in image_files if file.endswith(\".jpg\")]\n",
        "\n",
        "# Barajar la lista de nombres de archivos\n",
        "random.shuffle(image_files)\n",
        "\n",
        "# Calcular el número de archivos para cada conjunto\n",
        "total_images = len(image_files)\n",
        "num_train = int(total_images * train_percent)\n",
        "num_test = int(total_images * test_percent)\n",
        "num_val = total_images - num_train - num_test\n",
        "\n",
        "# Dividir la lista de nombres de archivos en train, test y val\n",
        "train_images = image_files[:num_train]\n",
        "test_images = image_files[num_train:num_train+num_test]\n",
        "val_images = image_files[num_train+num_test:]\n",
        "\n",
        "# Crear carpetas de train, test y val si no existen\n",
        "os.makedirs(train_images_dir, exist_ok=True)\n",
        "os.makedirs(train_labels_dir, exist_ok=True)\n",
        "os.makedirs(test_images_dir, exist_ok=True)\n",
        "os.makedirs(test_labels_dir, exist_ok=True)\n",
        "os.makedirs(val_images_dir, exist_ok=True)\n",
        "os.makedirs(val_labels_dir, exist_ok=True)\n",
        "\n",
        "# Copiar imágenes y etiquetas a las carpetas correspondientes\n",
        "def copy_files(files, source_dir, dest_images_dir, dest_labels_dir):\n",
        "    for file in files:\n",
        "        # Copiar imágenes\n",
        "        shutil.copy(os.path.join(source_dir, file), dest_images_dir)\n",
        "        # Copiar etiquetas\n",
        "        label_file = os.path.splitext(file)[0] + \".txt\"\n",
        "        shutil.copy(os.path.join(labels_dir, label_file), dest_labels_dir)\n",
        "\n",
        "copy_files(train_images, images_dir, train_images_dir, train_labels_dir)\n",
        "copy_files(test_images, images_dir, test_images_dir, test_labels_dir)\n",
        "copy_files(val_images, images_dir, val_images_dir, val_labels_dir)\n",
        "\n",
        "print(\"División de imágenes y etiquetas completada.\")\n"
      ],
      "metadata": {
        "colab": {
          "base_uri": "https://localhost:8080/"
        },
        "id": "KxXtCqI33o82",
        "outputId": "41cbc3ba-60cf-4fc3-a127-1bd280898984"
      },
      "execution_count": 2,
      "outputs": [
        {
          "output_type": "stream",
          "name": "stdout",
          "text": [
            "División de imágenes y etiquetas completada.\n"
          ]
        }
      ]
    },
    {
      "cell_type": "markdown",
      "source": [
        "# Leer archivos de etiquetas de YOLO para train, test y val\n"
      ],
      "metadata": {
        "id": "o6SkFZ7YRSj5"
      }
    },
    {
      "cell_type": "code",
      "source": [
        "def read_yolo_labels(yolo_label_dir):\n",
        "    \"\"\"Función para leer archivos .txt de etiquetas de YOLO.\"\"\"\n",
        "    yolo_labels = {}\n",
        "    for file_name in os.listdir(yolo_label_dir):\n",
        "        if file_name.endswith(\".txt\"):\n",
        "            with open(os.path.join(yolo_label_dir, file_name), \"r\") as f:\n",
        "                content = f.read().strip().split(\"\\n\")\n",
        "                labels = []\n",
        "                for line in content:\n",
        "                    parts = line.split(\" \")\n",
        "                    class_id = int(parts[0])\n",
        "                    points = []\n",
        "                    for i in range(1, len(parts), 2):\n",
        "                        x, y = map(float, parts[i:i+2])\n",
        "                        point = [x, y]\n",
        "                        points.append(point)\n",
        "                    label = {\"class_id\": class_id, \"points\": points}\n",
        "                    labels.append(label)\n",
        "                yolo_labels[file_name] = labels\n",
        "    return yolo_labels\n",
        "\n",
        "train_yolo_labels = read_yolo_labels(train_labels_dir)\n",
        "test_yolo_labels = read_yolo_labels(test_labels_dir)\n",
        "val_yolo_labels = read_yolo_labels(val_labels_dir)\n",
        "\n",
        "print(\"Etiquetas de YOLO leídas para train, test y val.\")"
      ],
      "metadata": {
        "id": "MYgZ8yjMRQtB",
        "outputId": "87b00fdd-84b6-4da2-91b5-4b9da3a29467",
        "colab": {
          "base_uri": "https://localhost:8080/"
        }
      },
      "execution_count": 3,
      "outputs": [
        {
          "output_type": "stream",
          "name": "stdout",
          "text": [
            "Etiquetas de YOLO leídas para train, test y val.\n"
          ]
        }
      ]
    },
    {
      "cell_type": "markdown",
      "source": [
        "# Función para convertir etiquetas YOLO a COCO Segmentation\n"
      ],
      "metadata": {
        "id": "9q6rCK-qRa7X"
      }
    },
    {
      "cell_type": "code",
      "source": [
        "def convert_to_coco_labels(yolo_labels, image_folder, start_image_id=1, start_bbox_id=1):\n",
        "    current_year = datetime.now().year\n",
        "    current_date = datetime.now().strftime(\"%Y-%m-%d %H:%M:%S\")\n",
        "\n",
        "    coco_labels = {\n",
        "        'info': {\n",
        "            'description': 'Dataset',\n",
        "            'url': '',\n",
        "            'version': '1.0',\n",
        "            'year': current_year,\n",
        "            'contributor': '',\n",
        "            'date_created': current_date\n",
        "        },\n",
        "        'licenses': [{'id': 1, 'name': None, 'url': None}],\n",
        "        'images': [],\n",
        "        'annotations': [],\n",
        "        'categories': []\n",
        "    }\n",
        "\n",
        "    categories_set = set()\n",
        "    image_id = start_image_id\n",
        "    bbox_id = start_bbox_id\n",
        "\n",
        "    for file_name, yolo_objs in yolo_labels.items():\n",
        "        image_name = file_name.replace(\".txt\", \".jpg\")\n",
        "        image_path = os.path.join(image_folder, image_name)\n",
        "\n",
        "        with Image.open(image_path) as img:\n",
        "            width, height = img.size\n",
        "\n",
        "        coco_labels['images'].append({\n",
        "            'file_name': image_name,\n",
        "            'height': height,\n",
        "            'width': width,\n",
        "            'id': image_id\n",
        "        })\n",
        "\n",
        "        for obj in yolo_objs:\n",
        "            class_id = obj[\"class_id\"]\n",
        "            categories_set.add(class_id)\n",
        "\n",
        "            x_yolo, y_yolo = obj[\"points\"][0]\n",
        "            w_yolo, h_yolo = obj[\"points\"][1][0] - x_yolo, obj[\"points\"][1][1] - y_yolo\n",
        "            x_coco = round(x_yolo * width - (w_yolo * width / 2))\n",
        "            y_coco = round(y_yolo * height - (h_yolo * height / 2))\n",
        "            w_coco = round(w_yolo * width)\n",
        "            h_coco = round(h_yolo * height)\n",
        "\n",
        "            bbox = [x_coco, y_coco, w_coco, h_coco]\n",
        "            area = w_coco * h_coco\n",
        "\n",
        "            segmentation = [\n",
        "                [x_coco, y_coco, x_coco + w_coco, y_coco, x_coco + w_coco, y_coco + h_coco, x_coco, y_coco + h_coco]\n",
        "            ]\n",
        "\n",
        "            coco_labels['annotations'].append({\n",
        "                'id': bbox_id,\n",
        "                'image_id': image_id,\n",
        "                'category_id': class_id + 1,\n",
        "                'bbox': bbox,\n",
        "                'area': area,\n",
        "                'segmentation': segmentation,\n",
        "                'iscrowd': 0\n",
        "            })\n",
        "\n",
        "            bbox_id += 1\n",
        "\n",
        "        image_id += 1\n",
        "\n",
        "    for class_id in categories_set:\n",
        "        coco_labels['categories'].append({\n",
        "            'id': class_id + 1,\n",
        "            'name': str(class_id),\n",
        "            'supercategory': ''\n",
        "        })\n",
        "\n",
        "    return coco_labels\n",
        "\n",
        "# Convertir etiquetas YOLO a etiquetas COCO para train, test y val\n",
        "train_coco_labels = convert_to_coco_labels(train_yolo_labels, train_images_dir)\n",
        "test_coco_labels = convert_to_coco_labels(test_yolo_labels, test_images_dir)\n",
        "val_coco_labels = convert_to_coco_labels(val_yolo_labels, val_images_dir)"
      ],
      "metadata": {
        "id": "Gvb9XHaPRbtw"
      },
      "execution_count": 4,
      "outputs": []
    },
    {
      "cell_type": "markdown",
      "source": [
        "# Guardar las etiquetas COCO en archivos JSON únicos\n",
        "\n",
        "\n"
      ],
      "metadata": {
        "id": "r2YsgAPgRfbT"
      }
    },
    {
      "cell_type": "code",
      "source": [
        "# Función para guardar etiquetas COCO en un archivo JSON\n",
        "def save_coco_labels(labels, output_file):\n",
        "    output_dir = os.path.dirname(output_file)\n",
        "    os.makedirs(output_dir, exist_ok=True)\n",
        "    with open(output_file, \"w\") as f:\n",
        "        json.dump(labels, f, indent=4)\n",
        "\n",
        "# Guardar las etiquetas COCO en archivos JSON\n",
        "save_coco_labels(train_coco_labels, \"/content/dataset_COCO/train/coco_labels.json\")\n",
        "save_coco_labels(test_coco_labels, \"/content/dataset_COCO/test/coco_labels.json\")\n",
        "save_coco_labels(val_coco_labels, \"/content/dataset_COCO/val/coco_labels.json\")\n",
        "\n",
        "print(\"Conversión a etiquetas COCO Segmentation completada.\")\n"
      ],
      "metadata": {
        "id": "YNtjA6M_RkJN",
        "outputId": "c78200cb-060a-4f8b-bdda-64ed9d4fa1a8",
        "colab": {
          "base_uri": "https://localhost:8080/"
        }
      },
      "execution_count": 6,
      "outputs": [
        {
          "output_type": "stream",
          "name": "stdout",
          "text": [
            "Conversión a etiquetas COCO Segmentation completada.\n"
          ]
        }
      ]
    }
  ]
}