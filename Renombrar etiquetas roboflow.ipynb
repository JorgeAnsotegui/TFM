{
  "nbformat": 4,
  "nbformat_minor": 0,
  "metadata": {
    "colab": {
      "provenance": [],
      "authorship_tag": "ABX9TyM6kWJEN9hUFSPskki/h6VO",
      "include_colab_link": true
    },
    "kernelspec": {
      "name": "python3",
      "display_name": "Python 3"
    },
    "language_info": {
      "name": "python"
    }
  },
  "cells": [
    {
      "cell_type": "markdown",
      "metadata": {
        "id": "view-in-github",
        "colab_type": "text"
      },
      "source": [
        "<a href=\"https://colab.research.google.com/github/JorgeAnsotegui/TFM/blob/main/Renombrar%20etiquetas%20roboflow.ipynb\" target=\"_parent\"><img src=\"https://colab.research.google.com/assets/colab-badge.svg\" alt=\"Open In Colab\"/></a>"
      ]
    },
    {
      "cell_type": "code",
      "execution_count": 1,
      "metadata": {
        "colab": {
          "base_uri": "https://localhost:8080/"
        },
        "id": "sx2Zc7SnQ7nw",
        "outputId": "07d1d86f-dea0-45e3-a3b2-4feb9867c4b1"
      },
      "outputs": [
        {
          "output_type": "stream",
          "name": "stdout",
          "text": [
            "Mounted at /content/drive\n"
          ]
        }
      ],
      "source": [
        "# Conectar Colab a Google Drive\n",
        "from google.colab import drive\n",
        "drive.mount('/content/drive')"
      ]
    },
    {
      "cell_type": "code",
      "source": [
        "import zipfile\n",
        "import os\n",
        "\n",
        "# Ruta del archivo zip en Google Drive\n",
        "ruta_zip = '/content/drive/MyDrive/TFM/Polipos.v1i.yolov9.zip'\n",
        "\n",
        "# Ruta de la carpeta destino\n",
        "ruta_destino = '/content/dataset'\n",
        "\n",
        "# Crear la carpeta destino si no existe\n",
        "if not os.path.exists(ruta_destino):\n",
        "    os.makedirs(ruta_destino)\n",
        "\n",
        "# Descomprimir el archivo zip\n",
        "with zipfile.ZipFile(ruta_zip, 'r') as zip_ref:\n",
        "    zip_ref.extractall(ruta_destino)\n",
        "\n",
        "print(f'Archivo descomprimido en {ruta_destino}')\n"
      ],
      "metadata": {
        "colab": {
          "base_uri": "https://localhost:8080/"
        },
        "id": "CEenYje9SASw",
        "outputId": "b3081966-d0ce-44aa-993d-8dd7625618a2"
      },
      "execution_count": null,
      "outputs": [
        {
          "output_type": "stream",
          "name": "stdout",
          "text": [
            "Archivo descomprimido en /content/dataset\n"
          ]
        }
      ]
    },
    {
      "cell_type": "code",
      "source": [
        "  import re\n",
        "  import shutil\n",
        "\n",
        "  # Función para copiar y renombrar archivos de etiquetas\n",
        "  def copiar_renombrar_etiquetas(carpeta_etiquetas, carpeta_destino):\n",
        "      # Crear la carpeta destino si no existe\n",
        "      if not os.path.exists(carpeta_destino):\n",
        "          os.makedirs(carpeta_destino)\n",
        "\n",
        "      for nombre_archivo in os.listdir(carpeta_etiquetas):\n",
        "          if nombre_archivo.endswith(\".txt\"):\n",
        "              nuevo_nombre = re.sub(r'_jpg\\.rf\\.[a-f0-9]{32}', '', nombre_archivo)\n",
        "              ruta_actual = os.path.join(carpeta_etiquetas, nombre_archivo)\n",
        "              nueva_ruta = os.path.join(carpeta_destino, nuevo_nombre)\n",
        "              shutil.copy(ruta_actual, nueva_ruta)\n",
        "              print(f'Copiado y renombrado {nombre_archivo} a {nuevo_nombre}')\n",
        "\n",
        "  # Carpeta donde se encuentran las etiquetas originales y la carpeta destino\n",
        "  carpeta_etiquetas = '/content/dataset/train/labels'\n",
        "  carpeta_destino = '/content/dataset/train/new_labels'\n",
        "\n",
        "  # Crear la carpeta destino si no existe\n",
        "  if not os.path.exists(ruta_destino):\n",
        "      os.makedirs(ruta_destino)\n",
        "\n",
        "  # Llamar a la función para copiar y renombrar las etiquetas\n",
        "  copiar_renombrar_etiquetas(carpeta_etiquetas, carpeta_destino)\n"
      ],
      "metadata": {
        "colab": {
          "base_uri": "https://localhost:8080/"
        },
        "collapsed": true,
        "id": "J_1OVEIaQ8fL",
        "outputId": "a3cfbe7f-94fa-428c-e84a-1aebfc0ae021"
      },
      "execution_count": null,
      "outputs": [
        {
          "output_type": "stream",
          "name": "stdout",
          "text": [
            "Copiado y renombrado 100H0160_jpg.rf.4448e185c604448ef502dfba87c67cd9.txt a 100H0160.txt\n",
            "Copiado y renombrado 100H0179_jpg.rf.bfd06a0d63a09fd8579271e8821cc62a.txt a 100H0179.txt\n",
            "Copiado y renombrado 100H0236_jpg.rf.b7a981efd44db621e016f2ae97e9bde9.txt a 100H0236.txt\n",
            "Copiado y renombrado 100H0246_jpg.rf.1c92749dc87a126a4af7d32a333b0f7d.txt a 100H0246.txt\n",
            "Copiado y renombrado 100H0065_jpg.rf.a9b20d9cc80e3637b0fb28e868ed0ada.txt a 100H0065.txt\n",
            "Copiado y renombrado 100H0233_jpg.rf.28a247de6d868cf1119458d2f3a35120.txt a 100H0233.txt\n",
            "Copiado y renombrado 100H0034_jpg.rf.8f142148c5910d62393cdc62ffad673c.txt a 100H0034.txt\n",
            "Copiado y renombrado 100H0115_jpg.rf.67ba7c15ebd2fc618491cfa022ce3a6f.txt a 100H0115.txt\n",
            "Copiado y renombrado 100H0170_jpg.rf.13bee3e4774d7702e64536c6b8542c85.txt a 100H0170.txt\n",
            "Copiado y renombrado 100H0174_jpg.rf.83dd6df4c6e4f43869ef506b5c53a8cb.txt a 100H0174.txt\n",
            "Copiado y renombrado 100H0167_jpg.rf.9a29334219f1671249ba0edab5e96a04.txt a 100H0167.txt\n",
            "Copiado y renombrado 100H0176_jpg.rf.c50d8557e8e5cb174d348c45611c1510.txt a 100H0176.txt\n",
            "Copiado y renombrado 100H0165_jpg.rf.3a81f9fa50a3d776747e1f1bc76d6b08.txt a 100H0165.txt\n",
            "Copiado y renombrado 100H0025_jpg.rf.9cd720ad097c726af9e90263f6bdec22.txt a 100H0025.txt\n",
            "Copiado y renombrado 100H0159_jpg.rf.8b5f1d16b79f14ed21d48229a65c8aeb.txt a 100H0159.txt\n",
            "Copiado y renombrado 100H0048_jpg.rf.842fa84d5276e6e479a6ce6cc18a5d3c.txt a 100H0048.txt\n",
            "Copiado y renombrado 100H0027_jpg.rf.283c4fa7a0f7a701cedc7aca299b698c.txt a 100H0027.txt\n",
            "Copiado y renombrado 100H0218_jpg.rf.f535307e015394bc87811ab3c602a013.txt a 100H0218.txt\n",
            "Copiado y renombrado 100H0135_jpg.rf.461332c418537c9d5290c4ff23524641.txt a 100H0135.txt\n",
            "Copiado y renombrado 100H0169_jpg.rf.d1b8b48158edb6fdb34ca73ce03f119a.txt a 100H0169.txt\n",
            "Copiado y renombrado 100H0228_jpg.rf.d6d78c86a1d9c335f908deec5902b157.txt a 100H0228.txt\n",
            "Copiado y renombrado 100H0149_jpg.rf.4a0330799335f78f1fa99b17dcd62070.txt a 100H0149.txt\n",
            "Copiado y renombrado 100H0108_jpg.rf.586f2b205be79af1b5a77fcb9b602074.txt a 100H0108.txt\n",
            "Copiado y renombrado 100H0068_jpg.rf.511a6fb8259bef0f08c53775bec557b9.txt a 100H0068.txt\n",
            "Copiado y renombrado 100H0184_jpg.rf.d7c2f316bb0ecbe3f5e95e62d7704043.txt a 100H0184.txt\n",
            "Copiado y renombrado 100H0099_jpg.rf.736279f05976218e727d02df633a921f.txt a 100H0099.txt\n",
            "Copiado y renombrado 100H0185_jpg.rf.15b1e3e0195d8e8952de66cfafe69e9b.txt a 100H0185.txt\n",
            "Copiado y renombrado 100H0132_jpg.rf.313949cdd6695eb4dc1aa758c1a62c2b.txt a 100H0132.txt\n",
            "Copiado y renombrado 100H0123_jpg.rf.0d8cac3286dae53c1e5b8aedfcc19164.txt a 100H0123.txt\n",
            "Copiado y renombrado 100H0141_jpg.rf.f68abeeeda636facd76ec81b4e4074cd.txt a 100H0141.txt\n",
            "Copiado y renombrado 100H0178_jpg.rf.acf48500e572d7d0288fd7e0c4c66210.txt a 100H0178.txt\n",
            "Copiado y renombrado 100H0004_jpg.rf.3a1fa3bad6906e7658734ae8fba663cd.txt a 100H0004.txt\n",
            "Copiado y renombrado 100H0093_jpg.rf.515ff8a9e8c010a0bbceb5caa57576ee.txt a 100H0093.txt\n",
            "Copiado y renombrado 100H0188_jpg.rf.ecd01558e87af92a9680052ecd8f913a.txt a 100H0188.txt\n",
            "Copiado y renombrado 100H0047_jpg.rf.8fdab7db673aa862bd50340a11bf1f21.txt a 100H0047.txt\n",
            "Copiado y renombrado 100H0249_jpg.rf.c6befede4f363b1caf1c9355751c0d48.txt a 100H0249.txt\n",
            "Copiado y renombrado 100H0231_jpg.rf.402960e27fb64664ba5b1c86cbbb505d.txt a 100H0231.txt\n",
            "Copiado y renombrado 100H0262_jpg.rf.8bd61a3cd1fa97f1a1587d5f567a905c.txt a 100H0262.txt\n",
            "Copiado y renombrado 100H0118_jpg.rf.d7d71e25c1e3241ee3f9430ab72ab71e.txt a 100H0118.txt\n",
            "Copiado y renombrado 100H0054_jpg.rf.540d5940af5587def6030b4588a3d7eb.txt a 100H0054.txt\n",
            "Copiado y renombrado 100H0191_jpg.rf.e4beabdce5b3d4e221cda9536cc9cfcf.txt a 100H0191.txt\n",
            "Copiado y renombrado 100H0248_jpg.rf.c28834425448819f85ec5d1715cedd59.txt a 100H0248.txt\n",
            "Copiado y renombrado 100H0193_jpg.rf.e953a6bf033aeb0ab534afb834db4bfb.txt a 100H0193.txt\n",
            "Copiado y renombrado 100H0162_jpg.rf.071d4ea14142cc6a3a69237ff3e6f683.txt a 100H0162.txt\n",
            "Copiado y renombrado 100H0009_jpg.rf.5a8fd85d25493f6232994c96193e8439.txt a 100H0009.txt\n",
            "Copiado y renombrado 100H0256_jpg.rf.8e697dbc2f1dca8281478ac05fd29992.txt a 100H0256.txt\n",
            "Copiado y renombrado 100H0109_jpg.rf.f1eb8ce601fdeb484bb6666bbc5bd93c.txt a 100H0109.txt\n",
            "Copiado y renombrado 100H0186_jpg.rf.21073cd0322c31c5e2f77bcd0c543741.txt a 100H0186.txt\n",
            "Copiado y renombrado 100H0008_jpg.rf.b5a12bac6972ad01ae4911e820b8ff75.txt a 100H0008.txt\n",
            "Copiado y renombrado 100H0206_jpg.rf.2377ce5c7199b85d4c25c1200aa618cf.txt a 100H0206.txt\n",
            "Copiado y renombrado 100H0139_jpg.rf.332c9e254d2c8e147941b809f540958c.txt a 100H0139.txt\n",
            "Copiado y renombrado 100H0106_jpg.rf.7a8e0747bdb710ef7a4c68e00a781a2d.txt a 100H0106.txt\n",
            "Copiado y renombrado 100H0194_jpg.rf.5c15ad3413e63f047a91a7b2a728b8ba.txt a 100H0194.txt\n",
            "Copiado y renombrado 100H0128_jpg.rf.121be8e9da3cc2f9ae68f745bf73caad.txt a 100H0128.txt\n",
            "Copiado y renombrado 100H0144_jpg.rf.dff6a5f2eea3f9f3eb3d6efa8078bb6f.txt a 100H0144.txt\n",
            "Copiado y renombrado 100H0127_jpg.rf.c8a22cbe185d63833aa996088f1b8a10.txt a 100H0127.txt\n",
            "Copiado y renombrado 100H0243_jpg.rf.b826caab125a4cf1399a5c27990b8cdf.txt a 100H0243.txt\n",
            "Copiado y renombrado 100H0059_jpg.rf.dd6e4913261e9749c04432852a7543ab.txt a 100H0059.txt\n",
            "Copiado y renombrado 100H0250_jpg.rf.5629bf417eb6440f6314587476e9e116.txt a 100H0250.txt\n",
            "Copiado y renombrado 100H0060_jpg.rf.6e5f1c5d7aba396531d0d1cceead3e8d.txt a 100H0060.txt\n",
            "Copiado y renombrado 100H0012_jpg.rf.4a2243236fafc41e27b7c9f5644f0bd9.txt a 100H0012.txt\n",
            "Copiado y renombrado 100H0251_jpg.rf.d434b8de6537f99f2096094c7b543ae2.txt a 100H0251.txt\n",
            "Copiado y renombrado 100H0205_jpg.rf.b4841fe53e24917c510baac875d6a6aa.txt a 100H0205.txt\n",
            "Copiado y renombrado 100H0075_jpg.rf.0167d972d334319c550fc501f7d4d42e.txt a 100H0075.txt\n",
            "Copiado y renombrado 100H0157_jpg.rf.bf3ed366dfaef3429290e1408708c7ec.txt a 100H0157.txt\n",
            "Copiado y renombrado 100H0086_jpg.rf.d2e3045a3709604394108407be53bc20.txt a 100H0086.txt\n",
            "Copiado y renombrado 100H0083_jpg.rf.8bfd998d9ef4f4c4d626b7e1d0fb478d.txt a 100H0083.txt\n",
            "Copiado y renombrado 100H0209_jpg.rf.c07169fcfb6d965b67d7f78eae9cc587.txt a 100H0209.txt\n",
            "Copiado y renombrado 100H0001_jpg.rf.ca2b451546510e0c36ca7cbeac0aafcb.txt a 100H0001.txt\n",
            "Copiado y renombrado 100H0079_jpg.rf.82bde25ddf87c0afa2736294c533aab6.txt a 100H0079.txt\n",
            "Copiado y renombrado 100H0242_jpg.rf.d51a36b3488d5f9dbb5336112d493ff9.txt a 100H0242.txt\n",
            "Copiado y renombrado 100H0098_jpg.rf.a4b5543be2e2222393edd6744ad14e09.txt a 100H0098.txt\n",
            "Copiado y renombrado 100H0032_jpg.rf.da4d68461d325a4f1917c18e4144a667.txt a 100H0032.txt\n",
            "Copiado y renombrado 100H0225_jpg.rf.fd7d1220e406ccac879c46088e5b4457.txt a 100H0225.txt\n",
            "Copiado y renombrado 100H0175_jpg.rf.4133b3dc097788fff09eeb7f9241b4d7.txt a 100H0175.txt\n",
            "Copiado y renombrado 100H0089_jpg.rf.8a54441fa74fda74aa23cde8a673f43a.txt a 100H0089.txt\n",
            "Copiado y renombrado 100H0036_jpg.rf.813d5c2381c09d8f7e2d90462fe4f4d6.txt a 100H0036.txt\n",
            "Copiado y renombrado 100H0133_jpg.rf.3728665b72e90b0770782373a42bd686.txt a 100H0133.txt\n",
            "Copiado y renombrado 100H0147_jpg.rf.450594625110d738cb1b00a345482492.txt a 100H0147.txt\n",
            "Copiado y renombrado 100H0143_jpg.rf.f7a43f430b0afc08ac2f49f098c0584c.txt a 100H0143.txt\n",
            "Copiado y renombrado 100H0087_jpg.rf.702cc0acfa1aa9e9448b0d32a271e37f.txt a 100H0087.txt\n",
            "Copiado y renombrado 100H0230_jpg.rf.e8e72e2465419ee354cb389004916ea6.txt a 100H0230.txt\n",
            "Copiado y renombrado 100H0190_jpg.rf.5026564d0aae5aadf269e988b31d38a9.txt a 100H0190.txt\n",
            "Copiado y renombrado 100H0180_jpg.rf.eb160d397b399b6ab1998f3aed643bfe.txt a 100H0180.txt\n",
            "Copiado y renombrado 100H0051_jpg.rf.623e3b04355de3ce45b29f1f03a29646.txt a 100H0051.txt\n",
            "Copiado y renombrado 100H0240_jpg.rf.8699872efb61d3dbcd703e1b1d8836b3.txt a 100H0240.txt\n",
            "Copiado y renombrado 100H0138_jpg.rf.c4034100f75633af270bd84018448d02.txt a 100H0138.txt\n",
            "Copiado y renombrado 100H0018-1-_jpg.rf.ebef041bbac413858fca2b442666074a.txt a 100H0018-1-.txt\n",
            "Copiado y renombrado 100H0117_jpg.rf.f8900dfea79c801e773d43911976fcc3.txt a 100H0117.txt\n",
            "Copiado y renombrado 100H0216_jpg.rf.3e12de51ebec2b05588bf3444b214e79.txt a 100H0216.txt\n",
            "Copiado y renombrado 100H0082_jpg.rf.3f5935aa9d71f31e9d2053dee5403333.txt a 100H0082.txt\n",
            "Copiado y renombrado 100H0207_jpg.rf.30215a1ef157a076fe0373c2fde980fc.txt a 100H0207.txt\n",
            "Copiado y renombrado 100H0064_jpg.rf.ef874aeb1c1ec1d91cc33860453b942b.txt a 100H0064.txt\n",
            "Copiado y renombrado 100H0035_jpg.rf.fe0c23bbec64c1a4c2d6ee39d9430127.txt a 100H0035.txt\n",
            "Copiado y renombrado 100H0040_jpg.rf.579ddee9489610d847bbbef0e6e1bbf6.txt a 100H0040.txt\n",
            "Copiado y renombrado 100H0258_jpg.rf.98a94ed8df655a098c77ae9807559591.txt a 100H0258.txt\n",
            "Copiado y renombrado 100H0071_jpg.rf.0e6d6e274c17acfc16be591d518732ac.txt a 100H0071.txt\n",
            "Copiado y renombrado 100H0146_jpg.rf.090a6a1ce65f24d91181df8c886a630f.txt a 100H0146.txt\n",
            "Copiado y renombrado 100H0002_jpg.rf.81ef2ac672428a750e79f93b30a8970c.txt a 100H0002.txt\n",
            "Copiado y renombrado 100H0026_jpg.rf.f99d0aae387f018a2be0edc6803ddb37.txt a 100H0026.txt\n",
            "Copiado y renombrado 100H0081_jpg.rf.8f3bc692474419dbaa9bafb251afebc9.txt a 100H0081.txt\n",
            "Copiado y renombrado 100H0023_jpg.rf.03d1f988ab9d22d41929bf30ddbedcc8.txt a 100H0023.txt\n",
            "Copiado y renombrado 100H0044_jpg.rf.c7227c739b3eafa45ebfd3a0bb381132.txt a 100H0044.txt\n",
            "Copiado y renombrado 100H0171_jpg.rf.a6d436cd450b471b511de63fdf8f0d00.txt a 100H0171.txt\n",
            "Copiado y renombrado 100H0221_jpg.rf.2514fd69b6f019716dd794b8a6fc9985.txt a 100H0221.txt\n",
            "Copiado y renombrado 100H0094_jpg.rf.30b5a25c1477f59be241510888fd8b4d.txt a 100H0094.txt\n",
            "Copiado y renombrado 100H0126_jpg.rf.1f9642bdcfa53bdad56cdff70cf87f16.txt a 100H0126.txt\n",
            "Copiado y renombrado 100H0067_jpg.rf.2b0d9d01a8a800932074f66dc90c60fd.txt a 100H0067.txt\n",
            "Copiado y renombrado 100H0066_jpg.rf.011488ba8421a5eea244f28b01a8ce4e.txt a 100H0066.txt\n",
            "Copiado y renombrado 100H0049_jpg.rf.0dd7dfdb7e2745ea978e237d53350771.txt a 100H0049.txt\n",
            "Copiado y renombrado 100H0020_jpg.rf.88d000a26f131ac9a955f070a2bfb9ae.txt a 100H0020.txt\n",
            "Copiado y renombrado 100H0116_jpg.rf.3229d49a7bc0fbb23536a2fd1ff0a3cc.txt a 100H0116.txt\n",
            "Copiado y renombrado 100H0080_jpg.rf.11da180910c920789155be3f6ca93cee.txt a 100H0080.txt\n",
            "Copiado y renombrado 100H0257_jpg.rf.2bd13cc0c0ab5f1104cb5b1dd11b4593.txt a 100H0257.txt\n",
            "Copiado y renombrado 100H0142_jpg.rf.a983efd7e17fc17fcbafddbeadafb328.txt a 100H0142.txt\n",
            "Copiado y renombrado 100H0112_jpg.rf.1133e5a83e3a8a2bb349380ac9a9a63e.txt a 100H0112.txt\n",
            "Copiado y renombrado 100H0226_jpg.rf.f36ab40f1962bfbc3a413c3a1c9090b9.txt a 100H0226.txt\n",
            "Copiado y renombrado 100H0252_jpg.rf.368ad85dadf9b5c5dba61f1a83b63c18.txt a 100H0252.txt\n",
            "Copiado y renombrado 100H0166_jpg.rf.65dcd00f475bb4f92096edf0b6a54ca9.txt a 100H0166.txt\n",
            "Copiado y renombrado 100H0107_jpg.rf.28961e1fffee8ecedc0be6dc41cd8282.txt a 100H0107.txt\n",
            "Copiado y renombrado 100H0091_jpg.rf.fd58dfa98745cc1fe96bf4dbe3ecf0fd.txt a 100H0091.txt\n",
            "Copiado y renombrado 100H0173_jpg.rf.180c58dc20a02b3f6aba90555656f60b.txt a 100H0173.txt\n",
            "Copiado y renombrado 100H0210_jpg.rf.0077644a90ea80c6d425f4f8c280b4f1.txt a 100H0210.txt\n",
            "Copiado y renombrado 100H0261_jpg.rf.36ee43f6e9bc4fccfedb3e634be56308.txt a 100H0261.txt\n",
            "Copiado y renombrado 100H0152_jpg.rf.13edec3d1ad80d659b53510de71fe80f.txt a 100H0152.txt\n",
            "Copiado y renombrado 100H0196_jpg.rf.22c6bdae5145787ec45ed7dd5e5ce839.txt a 100H0196.txt\n",
            "Copiado y renombrado 100H0202_jpg.rf.4f9927f7eb9c4a761496826241bd826e.txt a 100H0202.txt\n",
            "Copiado y renombrado 100H0077_jpg.rf.7b8a919f928f53c58afa158b01c8200d.txt a 100H0077.txt\n",
            "Copiado y renombrado 100H0129_jpg.rf.cbd6ab49414668a77ea717228a638b80.txt a 100H0129.txt\n",
            "Copiado y renombrado 100H0156_jpg.rf.d2bcd414eb8dd22af0865ca734659fee.txt a 100H0156.txt\n",
            "Copiado y renombrado 100H0181_jpg.rf.ef24614c4e79db9d904f7dfda4e8ad69.txt a 100H0181.txt\n",
            "Copiado y renombrado 100H0103_jpg.rf.a7ba76875906ec84079aa1f516e66cad.txt a 100H0103.txt\n",
            "Copiado y renombrado 100H0085_jpg.rf.19920a79828894c5217022d61a09ae69.txt a 100H0085.txt\n",
            "Copiado y renombrado 100H0241_jpg.rf.e84610d604e4e09a9546c9d80399a7fd.txt a 100H0241.txt\n",
            "Copiado y renombrado 100H0244_jpg.rf.a6010f2afbb947fff8cdc39728ca9dfe.txt a 100H0244.txt\n",
            "Copiado y renombrado 100H0003_jpg.rf.26d1e75f55a3b7b89e7080eac24a94cb.txt a 100H0003.txt\n",
            "Copiado y renombrado 100H0070_jpg.rf.13516e90125313d577f05ea27fb0a972.txt a 100H0070.txt\n",
            "Copiado y renombrado 100H0011_jpg.rf.2e3672c96d0afcad0200316a94fb379b.txt a 100H0011.txt\n",
            "Copiado y renombrado 100H0239_jpg.rf.63c5550a2e91692b6ba454324a8f24c2.txt a 100H0239.txt\n",
            "Copiado y renombrado 100H0095_jpg.rf.c494ef70f89b50cd2e3d5e14f7c2e5f1.txt a 100H0095.txt\n",
            "Copiado y renombrado 100H0041_jpg.rf.921e28831dbaa0ff9e451df0f3933e94.txt a 100H0041.txt\n",
            "Copiado y renombrado 100H0189_jpg.rf.4093b8f139aa1763c6d2644f7b023f86.txt a 100H0189.txt\n",
            "Copiado y renombrado 100H0208_jpg.rf.a95c3832aba7e3e2388bcbc724d4ad6b.txt a 100H0208.txt\n",
            "Copiado y renombrado 100H0024_jpg.rf.b5c12707e01fd4a830fd2e99b0a0d22e.txt a 100H0024.txt\n",
            "Copiado y renombrado 100H0153_jpg.rf.bb125b48fea8f140debf24116ec665f9.txt a 100H0153.txt\n",
            "Copiado y renombrado 100H0076_jpg.rf.d5287765657860c0f5374b68b1b6b546.txt a 100H0076.txt\n",
            "Copiado y renombrado 100H0182_jpg.rf.89e7ddf102e6ce606de8987b1df0730d.txt a 100H0182.txt\n",
            "Copiado y renombrado 100H0013_jpg.rf.a0cf52e710c0da1d9c14038061d30ee5.txt a 100H0013.txt\n",
            "Copiado y renombrado 100H0100_jpg.rf.8a97ab98d7d6ecf455578bc96ce649f1.txt a 100H0100.txt\n",
            "Copiado y renombrado 100H0224_jpg.rf.9da04ad1b30c6dabfc148ef25ad6e06a.txt a 100H0224.txt\n",
            "Copiado y renombrado 100H0177_jpg.rf.d2bd22fd839e2385fb938a716e3243f6.txt a 100H0177.txt\n",
            "Copiado y renombrado 100H0015_jpg.rf.9019e6f963bd61934f5c32cb40692e27.txt a 100H0015.txt\n",
            "Copiado y renombrado 100H0111_jpg.rf.35631048a99b6257f98fd5554aebd282.txt a 100H0111.txt\n",
            "Copiado y renombrado 100H0105_jpg.rf.6426a8291d2357a00425e2255e807b04.txt a 100H0105.txt\n",
            "Copiado y renombrado 100H0039_jpg.rf.ef4c486b023e5d592c823a776c0b55a0.txt a 100H0039.txt\n",
            "Copiado y renombrado 100H0078_jpg.rf.2b3023b2703de11acac5df2ac2118b53.txt a 100H0078.txt\n",
            "Copiado y renombrado 100H0063_jpg.rf.a1664b5ea4d44806bdf63ed9c605f4aa.txt a 100H0063.txt\n",
            "Copiado y renombrado 100H0199_jpg.rf.a064d921273c460eba2f12b2aa5ace24.txt a 100H0199.txt\n",
            "Copiado y renombrado 100H0019_jpg.rf.818c8b33a84f125077e56e0f1ff2038c.txt a 100H0019.txt\n",
            "Copiado y renombrado 100H0010_jpg.rf.81425a1df33a940c6745a80614a82c22.txt a 100H0010.txt\n",
            "Copiado y renombrado 100H0069_jpg.rf.096829ebc67ae271be036e65254227ba.txt a 100H0069.txt\n",
            "Copiado y renombrado 100H0201_jpg.rf.0e5acc792a6a252b9398c194602ad488.txt a 100H0201.txt\n",
            "Copiado y renombrado 100H0043_jpg.rf.6a22a69d50e88fe2a19c6642b1c130cf.txt a 100H0043.txt\n",
            "Copiado y renombrado 100H0140_jpg.rf.229e8f69aaaaba4f7dfd7e7c3560addb.txt a 100H0140.txt\n",
            "Copiado y renombrado 100H0213_jpg.rf.fb7ac0f1605d1b39ca8e3f8615d5633f.txt a 100H0213.txt\n",
            "Copiado y renombrado 100H0014_jpg.rf.23effaf4a2eafa76619e03fd108b0630.txt a 100H0014.txt\n",
            "Copiado y renombrado 100H0029_jpg.rf.2bf8534e8ff5f0dd9929dee1a9a3708d.txt a 100H0029.txt\n",
            "Copiado y renombrado 100H0229_jpg.rf.dcdf64c426848c56b4fbb8bf5cf9fe0e.txt a 100H0229.txt\n",
            "Copiado y renombrado 100H0057_jpg.rf.8a6d9b5328f08124acfc1f2bf44ad2a7.txt a 100H0057.txt\n",
            "Copiado y renombrado 100H0090_jpg.rf.7069cbf264bd381510ccff5d8c07e164.txt a 100H0090.txt\n",
            "Copiado y renombrado 100H0168_jpg.rf.1de14937140cc9addee4589fe5b5bbf1.txt a 100H0168.txt\n",
            "Copiado y renombrado 100H0211_jpg.rf.6fe0514e284239728a43eacafe456d5d.txt a 100H0211.txt\n",
            "Copiado y renombrado 100H0053_jpg.rf.04570ed6881170e19deb957ec8d44fa0.txt a 100H0053.txt\n",
            "Copiado y renombrado 100H0253_jpg.rf.ea5ed8cefbc1a207d3a1dc37a0e40cbc.txt a 100H0253.txt\n",
            "Copiado y renombrado 100H0031_jpg.rf.eaff3f2ce624bafb66b98a588bdfc869.txt a 100H0031.txt\n",
            "Copiado y renombrado 100H0046_jpg.rf.9f8fd7247e646a592a1a0947f122ff94.txt a 100H0046.txt\n",
            "Copiado y renombrado 100H0088_jpg.rf.3f784da8adf335cbcac1f3c417b6b9ba.txt a 100H0088.txt\n",
            "Copiado y renombrado 100H0263_jpg.rf.15d09ea3687d3d53913aedab6b928c88.txt a 100H0263.txt\n",
            "Copiado y renombrado 100H0151_jpg.rf.7aaa5edb97e9618cc3e9a792407ad177.txt a 100H0151.txt\n",
            "Copiado y renombrado 100H0131_jpg.rf.bb862f03bed7ea4235111d2857766300.txt a 100H0131.txt\n",
            "Copiado y renombrado 100H0214_jpg.rf.9808df2d07bd96f42f6992df2026415d.txt a 100H0214.txt\n",
            "Copiado y renombrado 100H0072_jpg.rf.2805b5334599548eda60d2cd089f514a.txt a 100H0072.txt\n",
            "Copiado y renombrado 100H0235_jpg.rf.fbe26d3aea705292a2d7a18a3468b8cc.txt a 100H0235.txt\n",
            "Copiado y renombrado 100H0245_jpg.rf.f0d4dc12a0c2c9686af3c427699a2125.txt a 100H0245.txt\n",
            "Copiado y renombrado 100H0104_jpg.rf.a9805bdf140eadffb11e879a02d797a4.txt a 100H0104.txt\n",
            "Copiado y renombrado 100H0028_jpg.rf.46a127b54729704f2c374595dd7f3c0c.txt a 100H0028.txt\n",
            "Copiado y renombrado 100H0163_jpg.rf.eea019db62e562df4b96cb312cc43cc6.txt a 100H0163.txt\n",
            "Copiado y renombrado 100H0096_jpg.rf.ce1176dd3340118556b2c816b55cdade.txt a 100H0096.txt\n",
            "Copiado y renombrado 100H0074_jpg.rf.7fff017dc40241554e733ae4739a3814.txt a 100H0074.txt\n",
            "Copiado y renombrado 100H0155_jpg.rf.1a0e1c65450182bf475251eb6d2ed45d.txt a 100H0155.txt\n",
            "Copiado y renombrado 100H0058_jpg.rf.98c4153607ebf28168b01cb1e9f59fba.txt a 100H0058.txt\n",
            "Copiado y renombrado 100H0154_jpg.rf.90f468c70bebe9d35d0a4612dec4c3a0.txt a 100H0154.txt\n",
            "Copiado y renombrado 100H0130_jpg.rf.7fe70f1fe097ed2f8df17c6f34a69709.txt a 100H0130.txt\n",
            "Copiado y renombrado 100H0195_jpg.rf.750492a3052c6dc528e8a28b5cf650d4.txt a 100H0195.txt\n",
            "Copiado y renombrado 100H0238_jpg.rf.8aa2feb421a9f9b1e11a4b394d89dc66.txt a 100H0238.txt\n",
            "Copiado y renombrado 100H0110_jpg.rf.5a152a9d97da2ab664a499051669a57b.txt a 100H0110.txt\n",
            "Copiado y renombrado 100H0247_jpg.rf.5a5b20e01c70f1a7bcad9fc5992fe9bf.txt a 100H0247.txt\n",
            "Copiado y renombrado 100H0234_jpg.rf.f5d439ccc9bfe155690ec7b684011f41.txt a 100H0234.txt\n",
            "Copiado y renombrado 100H0042_jpg.rf.49ada46c3af9ac6247ee17da0e218751.txt a 100H0042.txt\n",
            "Copiado y renombrado 100H0204_jpg.rf.9a4e930a03738f9a0d09c4f2d692f30d.txt a 100H0204.txt\n",
            "Copiado y renombrado 100H0203_jpg.rf.13abcfb91528b192acfa7c5fea43276b.txt a 100H0203.txt\n",
            "Copiado y renombrado 100H0172_jpg.rf.af648e9fc69729fe31e36c075884a269.txt a 100H0172.txt\n",
            "Copiado y renombrado 100H0265_jpg.rf.079f19d0f136221b94159ab0422d54f5.txt a 100H0265.txt\n",
            "Copiado y renombrado 100H0200_jpg.rf.4014323e63ba3aa6cf43b13fd1817ab5.txt a 100H0200.txt\n",
            "Copiado y renombrado 100H0016_jpg.rf.0b27f55a918f992a2d2d225b97d4c533.txt a 100H0016.txt\n",
            "Copiado y renombrado 100H0101_jpg.rf.283911b5fa3324e57cdb7ad407fa46f1.txt a 100H0101.txt\n",
            "Copiado y renombrado 100H0222_jpg.rf.4f6d9418a6a24606b8e06a324d6401ac.txt a 100H0222.txt\n",
            "Copiado y renombrado 100H0198_jpg.rf.39b3c2dfcca5afb10c65631328079cca.txt a 100H0198.txt\n",
            "Copiado y renombrado 100H0052_jpg.rf.5b4148034262dadc19fe4ae375ed6454.txt a 100H0052.txt\n",
            "Copiado y renombrado 100H0164_jpg.rf.757d71eef6e4639b247ad633fe49690d.txt a 100H0164.txt\n",
            "Copiado y renombrado 100H0102_jpg.rf.7273cae9a15c729de32320d62c764da4.txt a 100H0102.txt\n",
            "Copiado y renombrado 100H0223_jpg.rf.c5b26a435a9771c5456f79edcec41373.txt a 100H0223.txt\n",
            "Copiado y renombrado 100H0092_jpg.rf.8611f85c58a3f65f94cbaea6b8c439be.txt a 100H0092.txt\n",
            "Copiado y renombrado 100H0125_jpg.rf.ecc146493831bbea427a9ae46760bb1b.txt a 100H0125.txt\n",
            "Copiado y renombrado 100H0219_jpg.rf.7b1746c3eb0873ab85749b0cec841a69.txt a 100H0219.txt\n",
            "Copiado y renombrado 100H0227_jpg.rf.eb913f603ab9e4c15137f016839a43ed.txt a 100H0227.txt\n",
            "Copiado y renombrado 100H0056_jpg.rf.e2df41082f3eb5999b63a3861d78c208.txt a 100H0056.txt\n",
            "Copiado y renombrado 100H0134_jpg.rf.52b474476b4403c52cb11431229494ef.txt a 100H0134.txt\n",
            "Copiado y renombrado 100H0005-1-_jpg.rf.731ebd5845baee7def5e7705b5187cd0.txt a 100H0005-1-.txt\n",
            "Copiado y renombrado 100H0260_jpg.rf.5fe615e4634007dad61d866e9ee5a4d8.txt a 100H0260.txt\n",
            "Copiado y renombrado 100H0145_jpg.rf.3f3fcc99459e83984ef12e30844d6544.txt a 100H0145.txt\n",
            "Copiado y renombrado 100H0232_jpg.rf.97bdb95e50433244d620469a8753ea68.txt a 100H0232.txt\n",
            "Copiado y renombrado 100H0050_jpg.rf.b856e8e00392fdd52ab1ca573815a4c2.txt a 100H0050.txt\n",
            "Copiado y renombrado 100H0124_jpg.rf.37c19bcaf672d65b7b18f67bcaed3197.txt a 100H0124.txt\n",
            "Copiado y renombrado 100H0017_jpg.rf.a891517cabdbdac271e3f1d5dab19ff4.txt a 100H0017.txt\n",
            "Copiado y renombrado 100H0217_jpg.rf.b3bd80125acffcaae76c796eb94547db.txt a 100H0217.txt\n",
            "Copiado y renombrado 100H0192_jpg.rf.cfffe794ae2ae560306be0d18bd7e1d9.txt a 100H0192.txt\n",
            "Copiado y renombrado 100H0212_jpg.rf.9c20077cfd5827224c5e3e4df4551bf8.txt a 100H0212.txt\n",
            "Copiado y renombrado 100H0033_jpg.rf.d1a98b76d57b9b1b89938ba042554b39.txt a 100H0033.txt\n",
            "Copiado y renombrado 100H0197_jpg.rf.a8af362c2c65c2d2a0f36e171e4acc75.txt a 100H0197.txt\n",
            "Copiado y renombrado 100H0137_jpg.rf.622dc29562dfa4e3edb01f1718b0408f.txt a 100H0137.txt\n",
            "Copiado y renombrado 100H0007_jpg.rf.6424c342db04874ca5365913c9d08e07.txt a 100H0007.txt\n",
            "Copiado y renombrado 100H0006_jpg.rf.5855f3ef02b2d7b2e78622a313a8f271.txt a 100H0006.txt\n",
            "Copiado y renombrado 100H0136_jpg.rf.27aeff29ee150491864d18d364b38e61.txt a 100H0136.txt\n",
            "Copiado y renombrado 100H0084_jpg.rf.d3bfccaca5dfe29cfc2600ca95cdba90.txt a 100H0084.txt\n",
            "Copiado y renombrado 100H0119_jpg.rf.70ef6939d1d7ec43d9e0614a2c8a1322.txt a 100H0119.txt\n",
            "Copiado y renombrado 100H0045_jpg.rf.ea837fd3e0a58a2a4826bb7f8a34bcea.txt a 100H0045.txt\n",
            "Copiado y renombrado 100H0215_jpg.rf.28263a0cc89d8653c9ef921938a1d82d.txt a 100H0215.txt\n",
            "Copiado y renombrado 100H0030_jpg.rf.db2fd37c973e2a983ec2b4ead67dcaad.txt a 100H0030.txt\n"
          ]
        }
      ]
    },
    {
      "cell_type": "markdown",
      "source": [
        "#Muevo los resultados a mi drive"
      ],
      "metadata": {
        "id": "Hr9AoFtWjNC_"
      }
    },
    {
      "cell_type": "code",
      "source": [
        "# Ruta de la carpeta origen (la que quieres subir)\n",
        "ruta_origen = '/content/dataset/train/new_labels'\n",
        "\n",
        "# Ruta de la carpeta destino en Google Drive\n",
        "ruta_destino_drive = '/content/drive/My Drive/TFM/'\n",
        "\n",
        "# Crear la carpeta destino en Google Drive si no existe\n",
        "if not os.path.exists(ruta_destino_drive):\n",
        "    os.makedirs(ruta_destino_drive)\n",
        "\n",
        "# Nombre de la carpeta que contiene las imágenes\n",
        "nombre_carpeta = os.path.basename(ruta_origen)\n",
        "\n",
        "# Ruta completa de la carpeta destino incluyendo el nombre de la carpeta\n",
        "ruta_destino_completa = os.path.join(ruta_destino_drive, nombre_carpeta)\n",
        "\n",
        "# Copiar la carpeta a Google Drive\n",
        "shutil.copytree(ruta_origen, ruta_destino_completa, dirs_exist_ok=True)\n",
        "\n",
        "print(f'Carpeta copiada a {ruta_destino_completa}')\n"
      ],
      "metadata": {
        "colab": {
          "base_uri": "https://localhost:8080/"
        },
        "id": "3m4rvCZcTb3y",
        "outputId": "aa95d2f8-fdb1-4154-88d3-2ba2bb87a12e"
      },
      "execution_count": null,
      "outputs": [
        {
          "output_type": "stream",
          "name": "stdout",
          "text": [
            "Carpeta copiada a /content/drive/My Drive/TFM/new_labels\n"
          ]
        }
      ]
    },
    {
      "cell_type": "markdown",
      "source": [
        "## Comprobación de como han quedado las imagenes"
      ],
      "metadata": {
        "id": "R6SoRZcljHkb"
      }
    },
    {
      "cell_type": "code",
      "source": [
        "import os\n",
        "\n",
        "# Ruta de la carpeta de la que quieres contar los archivos\n",
        "ruta_carpeta = '/content/dataset/train/new_labels'\n",
        "\n",
        "# Contar el número de archivos en la carpeta\n",
        "numero_archivos = len([archivo for archivo in os.listdir(ruta_carpeta) if os.path.isfile(os.path.join(ruta_carpeta, archivo))])\n",
        "\n",
        "print(f'Número de archivos en la carpeta {ruta_carpeta}: {numero_archivos}')\n"
      ],
      "metadata": {
        "colab": {
          "base_uri": "https://localhost:8080/"
        },
        "id": "nQ_nl6nTXwqE",
        "outputId": "8295ecc4-a629-4874-cdfd-2f4a471dd686"
      },
      "execution_count": null,
      "outputs": [
        {
          "output_type": "stream",
          "name": "stdout",
          "text": [
            "Número de archivos en la carpeta /content/dataset/train/new_labels: 239\n"
          ]
        }
      ]
    },
    {
      "cell_type": "code",
      "source": [
        "import os\n",
        "\n",
        "# Ruta de las carpetas de imágenes y etiquetas\n",
        "ruta_imagenes = '/content/drive/MyDrive/TFM/dataset_Jorge/train/images'\n",
        "ruta_etiquetas = '/content/drive/MyDrive/TFM/dataset_Jorge/train/labels'\n",
        "\n",
        "# Función para obtener la lista de archivos sin extensiones\n",
        "def obtener_lista_archivos(ruta_carpeta):\n",
        "    return {os.path.splitext(archivo)[0] for archivo in os.listdir(ruta_carpeta) if os.path.isfile(os.path.join(ruta_carpeta, archivo))}\n",
        "\n",
        "# Obtener las listas de archivos sin extensiones\n",
        "archivos_imagenes = obtener_lista_archivos(ruta_imagenes)\n",
        "archivos_etiquetas = obtener_lista_archivos(ruta_etiquetas)\n",
        "\n",
        "# Comparar las listas de archivos\n",
        "archivos_en_ambas = archivos_imagenes.intersection(archivos_etiquetas)\n",
        "archivos_solo_imagenes = archivos_imagenes.difference(archivos_etiquetas)\n",
        "archivos_solo_etiquetas = archivos_etiquetas.difference(archivos_imagenes)\n",
        "\n",
        "# Convertir los sets a listas\n",
        "archivos_en_ambas = list(archivos_en_ambas)\n",
        "archivos_solo_imagenes = list(archivos_solo_imagenes)\n",
        "archivos_solo_etiquetas = list(archivos_solo_etiquetas)\n",
        "\n",
        "# Imprimir los resultados\n",
        "print(f'Archivos en ambas carpetas ({len(archivos_en_ambas)}): {archivos_en_ambas}')\n",
        "print(f'Archivos solo en la carpeta de imágenes ({len(archivos_solo_imagenes)}): {archivos_solo_imagenes}')\n",
        "print(f'Archivos solo en la carpeta de etiquetas ({len(archivos_solo_etiquetas)}): {archivos_solo_etiquetas}')\n"
      ],
      "metadata": {
        "id": "EgrP_OTOZhd9",
        "outputId": "7ad59841-b92c-4fd4-d583-977185989e19",
        "colab": {
          "base_uri": "https://localhost:8080/"
        }
      },
      "execution_count": null,
      "outputs": [
        {
          "output_type": "stream",
          "name": "stdout",
          "text": [
            "Archivos en ambas carpetas (239): ['100H0241', '100H0196', '100H0041', '100H0069', '100H0242', '100H0131', '100H0190', '100H0194', '100H0256', '100H0145', '100H0216', '100H0063', '100H0246', '100H0075', '100H0046', '100H0100', '100H0163', '100H0094', '100H0129', '100H0232', '100H0153', '100H0104', '100H0095', '100H0248', '100H0198', '100H0098', '100H0215', '100H0236', '100H0020', '100H0151', '100H0142', '100H0002', '100H0217', '100H0047', '100H0008', '100H0060', '100H0205', '100H0177', '100H0031', '100H0086', '100H0249', '100H0188', '100H0019', '100H0191', '100H0089', '100H0247', '100H0169', '100H0174', '100H0081', '100H0044', '100H0083', '100H0092', '100H0262', '100H0071', '100H0143', '100H0164', '100H0189', '100H0146', '100H0049', '100H0012', '100H0101', '100H0065', '100H0222', '100H0137', '100H0175', '100H0130', '100H0170', '100H0179', '100H0117', '100H0226', '100H0099', '100H0223', '100H0023', '100H0245', '100H0182', '100H0058', '100H0068', '100H0212', '100H0090', '100H0126', '100H0186', '100H0171', '100H0039', '100H0053', '100H0079', '100H0078', '100H0180', '100H0108', '100H0160', '100H0052', '100H0029', '100H0225', '100H0250', '100H0200', '100H0176', '100H0028', '100H0013', '100H0003', '100H0127', '100H0228', '100H0124', '100H0252', '100H0017', '100H0027', '100H0070', '100H0221', '100H0260', '100H0087', '100H0112', '100H0007', '100H0258', '100H0206', '100H0064', '100H0085', '100H0147', '100H0034', '100H0132', '100H0197', '100H0107', '100H0184', '100H0009', '100H0106', '100H0209', '100H0243', '100H0238', '100H0144', '100H0235', '100H0082', '100H0210', '100H0133', '100H0138', '100H0154', '100H0091', '100H0072', '100H0102', '100H0178', '100H0156', '100H0149', '100H0227', '100H0050', '100H0001', '100H0201', '100H0202', '100H0208', '100H0213', '100H0057', '100H0110', '100H0066', '100H0115', '100H0018', '100H0125', '100H0048', '100H0135', '100H0141', '100H0033', '100H0168', '100H0036', '100H0004', '100H0231', '100H0016', '100H0056', '100H0076', '100H0059', '100H0139', '100H0230', '100H0261', '100H0207', '100H0105', '100H0093', '100H0155', '100H0084', '100H0077', '100H0011', '100H0195', '100H0203', '100H0134', '100H0192', '100H0109', '100H0051', '100H0116', '100H0111', '100H0032', '100H0253', '100H0185', '100H0014', '100H0103', '100H0005', '100H0010', '100H0006', '100H0080', '100H0043', '100H0229', '100H0219', '100H0218', '100H0214', '100H0128', '100H0211', '100H0263', '100H0224', '100H0172', '100H0096', '100H0042', '100H0199', '100H0136', '100H0040', '100H0159', '100H0123', '100H0166', '100H0244', '100H0118', '100H0167', '100H0045', '100H0257', '100H0173', '100H0026', '100H0024', '100H0165', '100H0181', '100H0015', '100H0088', '100H0152', '100H0265', '100H0119', '100H0067', '100H0233', '100H0025', '100H0162', '100H0251', '100H0074', '100H0240', '100H0054', '100H0140', '100H0030', '100H0035', '100H0239', '100H0157', '100H0234', '100H0193', '100H0204']\n",
            "Archivos solo en la carpeta de imágenes (26): ['100H0187', '100H0158', '100H0038', '100H0264', '100H0113', '100H0237', '100H0254', '100H0114', '100H0061', '100H0259', '100H0062', '100H0097', '100H0037', '100H0122', '100H0055', '100H0161', '100H0021', '100H0022', '100H0073', '100H0121', '100H0150', '100H0255', '100H0183', '100H0220', '100H0120', '100H0148']\n",
            "Archivos solo en la carpeta de etiquetas (0): []\n"
          ]
        }
      ]
    },
    {
      "cell_type": "code",
      "source": [
        "import os\n",
        "import shutil\n",
        "\n",
        "# Rutas de las carpetas originales y de destino\n",
        "ruta_origen_imagenes = '/content/drive/MyDrive/TFM/dataset_Jorge/train/images'\n",
        "ruta_origen_etiquetas = '/content/drive/MyDrive/TFM/dataset_Jorge/train/labels'\n",
        "ruta_destino = '/content/drive/MyDrive/TFM/dataset_Jorge_V2'\n",
        "\n",
        "# Crear la carpeta de destino si no existe\n",
        "if not os.path.exists(ruta_destino):\n",
        "    os.makedirs(ruta_destino)\n",
        "\n",
        "# Copiar solo los archivos en la lista de ambas imágenes y etiquetas\n",
        "for archivo in archivos_en_ambas:\n",
        "    ruta_imagen = os.path.join(ruta_origen_imagenes, archivo + '.jpg')\n",
        "    ruta_etiqueta = os.path.join(ruta_origen_etiquetas, archivo + '.txt')\n",
        "\n",
        "    # Verificar si ambos archivos existen antes de copiar\n",
        "    if os.path.exists(ruta_imagen) and os.path.exists(ruta_etiqueta):\n",
        "        shutil.copy(ruta_imagen, ruta_destino)\n",
        "        shutil.copy(ruta_etiqueta, ruta_destino)\n",
        "\n",
        "print(f'Carpeta \"dataset_Jorge_V2\" creada y archivos copiados')\n"
      ],
      "metadata": {
        "id": "6prNjhY6ayVn",
        "outputId": "18a6060b-e9d3-4657-d72c-45e8c7ea1c83",
        "colab": {
          "base_uri": "https://localhost:8080/"
        }
      },
      "execution_count": null,
      "outputs": [
        {
          "output_type": "stream",
          "name": "stdout",
          "text": [
            "Carpeta \"dataset_Jorge_V2\" creada y archivos copiados\n"
          ]
        }
      ]
    },
    {
      "cell_type": "code",
      "source": [
        "import os\n",
        "import shutil\n",
        "\n",
        "# Rutas de las carpetas originales y de destino\n",
        "ruta_origen_imagenes = '/content/drive/MyDrive/TFM/dataset_Jorge/train/images'\n",
        "ruta_origen_etiquetas = '/content/drive/MyDrive/TFM/dataset_Jorge/train/labels'\n",
        "ruta_destino = '/content/drive/MyDrive/TFM/dataset_Jorge_V2'\n",
        "\n",
        "# Crear las carpetas de destino si no existen\n",
        "if not os.path.exists(ruta_destino):\n",
        "    os.makedirs(os.path.join(ruta_destino, 'images'))\n",
        "    os.makedirs(os.path.join(ruta_destino, 'labels'))\n",
        "\n",
        "# Copiar solo los archivos en la lista de ambas imágenes y etiquetas\n",
        "for archivo in archivos_en_ambas:\n",
        "    ruta_imagen_origen = os.path.join(ruta_origen_imagenes, archivo + '.jpg')\n",
        "    ruta_etiqueta_origen = os.path.join(ruta_origen_etiquetas, archivo + '.txt')\n",
        "\n",
        "    ruta_imagen_destino = os.path.join(ruta_destino, 'images', archivo + '.jpg')\n",
        "    ruta_etiqueta_destino = os.path.join(ruta_destino, 'labels', archivo + '.txt')\n",
        "\n",
        "    # Verificar si ambos archivos existen antes de copiar\n",
        "    if os.path.exists(ruta_imagen_origen) and os.path.exists(ruta_etiqueta_origen):\n",
        "        shutil.copy(ruta_imagen_origen, ruta_imagen_destino)\n",
        "        shutil.copy(ruta_etiqueta_origen, ruta_etiqueta_destino)\n",
        "\n",
        "print(f'Carpeta \"dataset_Jorge_V2\" creada con las imágenes y etiquetas separadas')\n"
      ],
      "metadata": {
        "id": "ACQrAYGZbHNs",
        "outputId": "497dbc98-4bf0-4821-bc90-e9bcc99567b3",
        "colab": {
          "base_uri": "https://localhost:8080/"
        }
      },
      "execution_count": null,
      "outputs": [
        {
          "output_type": "stream",
          "name": "stdout",
          "text": [
            "Carpeta \"dataset_Jorge_V2\" creada con las imágenes y etiquetas separadas\n"
          ]
        }
      ]
    },
    {
      "cell_type": "code",
      "source": [
        "import os\n",
        "\n",
        "# Ruta de las carpetas de imágenes y etiquetas\n",
        "ruta_imagenes = '/content/drive/MyDrive/TFM/dataset_Jorge_V2/images'\n",
        "ruta_etiquetas = '/content/drive/MyDrive/TFM/dataset_Jorge_V2/labels'\n",
        "\n",
        "# Función para obtener la lista de archivos sin extensiones\n",
        "def obtener_lista_archivos(ruta_carpeta):\n",
        "    return {os.path.splitext(archivo)[0] for archivo in os.listdir(ruta_carpeta) if os.path.isfile(os.path.join(ruta_carpeta, archivo))}\n",
        "\n",
        "# Obtener las listas de archivos sin extensiones\n",
        "archivos_imagenes = obtener_lista_archivos(ruta_imagenes)\n",
        "archivos_etiquetas = obtener_lista_archivos(ruta_etiquetas)\n",
        "\n",
        "# Comparar las listas de archivos\n",
        "archivos_en_ambas = archivos_imagenes.intersection(archivos_etiquetas)\n",
        "archivos_solo_imagenes = archivos_imagenes.difference(archivos_etiquetas)\n",
        "archivos_solo_etiquetas = archivos_etiquetas.difference(archivos_imagenes)\n",
        "\n",
        "# Convertir los sets a listas\n",
        "archivos_en_ambas = list(archivos_en_ambas)\n",
        "archivos_solo_imagenes = list(archivos_solo_imagenes)\n",
        "archivos_solo_etiquetas = list(archivos_solo_etiquetas)\n",
        "\n",
        "# Imprimir los resultados\n",
        "print(f'Archivos en ambas carpetas ({len(archivos_en_ambas)}): {archivos_en_ambas}')\n",
        "print(f'Archivos solo en la carpeta de imágenes ({len(archivos_solo_imagenes)}): {archivos_solo_imagenes}')\n",
        "print(f'Archivos solo en la carpeta de etiquetas ({len(archivos_solo_etiquetas)}): {archivos_solo_etiquetas}')\n"
      ],
      "metadata": {
        "id": "LO0NbdmrcG6_",
        "outputId": "fab2c397-009a-4d08-dbed-b5536b903423",
        "colab": {
          "base_uri": "https://localhost:8080/"
        }
      },
      "execution_count": null,
      "outputs": [
        {
          "output_type": "stream",
          "name": "stdout",
          "text": [
            "Archivos en ambas carpetas (239): ['100H0241', '100H0196', '100H0041', '100H0069', '100H0242', '100H0131', '100H0190', '100H0194', '100H0256', '100H0145', '100H0216', '100H0063', '100H0246', '100H0075', '100H0046', '100H0100', '100H0163', '100H0094', '100H0129', '100H0232', '100H0153', '100H0104', '100H0095', '100H0248', '100H0198', '100H0098', '100H0215', '100H0236', '100H0020', '100H0151', '100H0142', '100H0002', '100H0217', '100H0047', '100H0008', '100H0060', '100H0205', '100H0177', '100H0031', '100H0086', '100H0249', '100H0188', '100H0019', '100H0191', '100H0089', '100H0247', '100H0169', '100H0174', '100H0081', '100H0044', '100H0083', '100H0092', '100H0262', '100H0071', '100H0143', '100H0164', '100H0189', '100H0146', '100H0049', '100H0012', '100H0101', '100H0222', '100H0065', '100H0137', '100H0175', '100H0130', '100H0170', '100H0179', '100H0117', '100H0226', '100H0099', '100H0223', '100H0023', '100H0245', '100H0182', '100H0058', '100H0068', '100H0212', '100H0090', '100H0126', '100H0186', '100H0171', '100H0039', '100H0053', '100H0079', '100H0078', '100H0180', '100H0108', '100H0160', '100H0052', '100H0029', '100H0225', '100H0250', '100H0200', '100H0176', '100H0028', '100H0013', '100H0003', '100H0127', '100H0228', '100H0124', '100H0252', '100H0017', '100H0027', '100H0070', '100H0221', '100H0260', '100H0087', '100H0112', '100H0007', '100H0258', '100H0206', '100H0064', '100H0085', '100H0147', '100H0034', '100H0132', '100H0197', '100H0107', '100H0184', '100H0009', '100H0106', '100H0209', '100H0243', '100H0238', '100H0144', '100H0235', '100H0082', '100H0210', '100H0133', '100H0138', '100H0154', '100H0091', '100H0072', '100H0102', '100H0178', '100H0156', '100H0149', '100H0227', '100H0050', '100H0001', '100H0201', '100H0202', '100H0208', '100H0213', '100H0057', '100H0110', '100H0066', '100H0115', '100H0018', '100H0125', '100H0048', '100H0135', '100H0141', '100H0033', '100H0168', '100H0036', '100H0004', '100H0231', '100H0016', '100H0056', '100H0076', '100H0059', '100H0139', '100H0230', '100H0261', '100H0207', '100H0105', '100H0093', '100H0155', '100H0084', '100H0077', '100H0011', '100H0195', '100H0203', '100H0134', '100H0192', '100H0109', '100H0051', '100H0116', '100H0111', '100H0032', '100H0253', '100H0185', '100H0014', '100H0103', '100H0005', '100H0010', '100H0006', '100H0080', '100H0043', '100H0229', '100H0219', '100H0218', '100H0214', '100H0128', '100H0211', '100H0263', '100H0224', '100H0172', '100H0096', '100H0042', '100H0199', '100H0136', '100H0040', '100H0159', '100H0123', '100H0166', '100H0244', '100H0118', '100H0167', '100H0045', '100H0257', '100H0173', '100H0026', '100H0024', '100H0165', '100H0181', '100H0015', '100H0088', '100H0152', '100H0265', '100H0119', '100H0067', '100H0233', '100H0025', '100H0162', '100H0251', '100H0074', '100H0240', '100H0054', '100H0140', '100H0030', '100H0035', '100H0239', '100H0157', '100H0234', '100H0193', '100H0204']\n",
            "Archivos solo en la carpeta de imágenes (0): []\n",
            "Archivos solo en la carpeta de etiquetas (0): []\n"
          ]
        }
      ]
    },
    {
      "cell_type": "markdown",
      "source": [
        "# Para el formato COCO segmentado"
      ],
      "metadata": {
        "id": "_oyjvsx7i7Jq"
      }
    },
    {
      "cell_type": "code",
      "source": [
        "import json\n",
        "import os\n",
        "import re\n",
        "\n",
        "# Ruta del archivo de anotaciones COCO original\n",
        "coco_annotations_path = \"/content/drive/MyDrive/TFM/_annotations.coco.json\"\n",
        "# Ruta para guardar el archivo de anotaciones COCO modificado\n",
        "modified_coco_annotations_path = \"/content/drive/MyDrive/TFM/COCO_Segmentado.json\"\n",
        "\n",
        "# Leer el archivo de anotaciones COCO\n",
        "with open(coco_annotations_path, 'r') as f:\n",
        "    coco_data = json.load(f)\n",
        "\n",
        "# Expresión regular para limpiar los nombres de las imágenes\n",
        "pattern = re.compile(r'_jpg\\.rf\\.[a-f0-9]{32}')\n",
        "\n",
        "# Limpiar los nombres de las imágenes en la sección \"images\"\n",
        "for img in coco_data['images']:\n",
        "    original_file_name = img['file_name']\n",
        "    cleaned_file_name = pattern.sub('', original_file_name)\n",
        "    img['file_name'] = cleaned_file_name\n",
        "\n",
        "# Guardar el archivo de anotaciones COCO modificado\n",
        "with open(modified_coco_annotations_path, 'w') as f:\n",
        "    json.dump(coco_data, f)\n",
        "\n",
        "print(f'Archivo de anotaciones modificado guardado en {modified_coco_annotations_path}')"
      ],
      "metadata": {
        "id": "6GR1berWivvC",
        "outputId": "beee6e9c-a02e-4a5c-e4d5-ebd788ceda89",
        "colab": {
          "base_uri": "https://localhost:8080/"
        }
      },
      "execution_count": 2,
      "outputs": [
        {
          "output_type": "stream",
          "name": "stdout",
          "text": [
            "Archivo de anotaciones modificado guardado en /content/drive/MyDrive/TFM/COCO_Segmentado.json\n"
          ]
        }
      ]
    },
    {
      "cell_type": "markdown",
      "source": [
        "# Comprobaciones\n"
      ],
      "metadata": {
        "id": "xwpU8wbfkAlZ"
      }
    },
    {
      "cell_type": "code",
      "source": [
        "import json\n",
        "\n",
        "# Ruta del archivo de anotaciones COCO\n",
        "coco_annotations_path = \"/content/drive/MyDrive/TFM/COCO_Segmentado.json\"\n",
        "\n",
        "# Leer el archivo de anotaciones COCO\n",
        "with open(coco_annotations_path, 'r') as f:\n",
        "    coco_data = json.load(f)\n",
        "\n",
        "# Contar el número de imágenes y anotaciones\n",
        "num_images = len(coco_data['images'])\n",
        "num_annotations = len(coco_data['annotations'])\n",
        "\n",
        "print(f'Número de imágenes: {num_images}')\n",
        "print(f'Número de anotaciones: {num_annotations}')\n"
      ],
      "metadata": {
        "id": "-OfyKTdLkCr6",
        "outputId": "0c6760f8-3cb9-4799-bffd-624105c6f468",
        "colab": {
          "base_uri": "https://localhost:8080/"
        }
      },
      "execution_count": 4,
      "outputs": [
        {
          "output_type": "stream",
          "name": "stdout",
          "text": [
            "Número de imágenes: 239\n",
            "Número de anotaciones: 246\n"
          ]
        }
      ]
    }
  ]
}