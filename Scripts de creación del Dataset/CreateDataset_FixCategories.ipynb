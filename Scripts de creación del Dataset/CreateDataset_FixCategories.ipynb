{
  "cells": [
    {
      "cell_type": "markdown",
      "metadata": {
        "colab_type": "text",
        "id": "view-in-github"
      },
      "source": [
        "<a href=\"https://colab.research.google.com/github/JorgeAnsotegui/TFM/blob/main/Dataset_Tweaking/Renombrar_Yolo%26Coco_CorregirCategorias.ipynb\" target=\"_parent\"><img src=\"https://colab.research.google.com/assets/colab-badge.svg\" alt=\"Open In Colab\"/></a>"
      ]
    },
    {
      "cell_type": "code",
      "execution_count": null,
      "metadata": {},
      "outputs": [],
      "source": [
        "import zipfile\n",
        "import os\n",
        "import json\n",
        "import re\n",
        "import shutil\n",
        "import yaml"
      ]
    },
    {
      "cell_type": "code",
      "execution_count": 1,
      "metadata": {
        "colab": {
          "base_uri": "https://localhost:8080/"
        },
        "id": "IbrPZklIAmCu",
        "outputId": "354dedc9-5b01-4822-dd90-538a42dad5de"
      },
      "outputs": [
        {
          "name": "stdout",
          "output_type": "stream",
          "text": [
            "Mounted at /content/drive\n"
          ]
        }
      ],
      "source": [
        "# # Conectar Colab a Google Drive\n",
        "# from google.colab import drive\n",
        "# drive.mount('/content/drive')"
      ]
    },
    {
      "cell_type": "code",
      "execution_count": 21,
      "metadata": {
        "id": "WcbbluImFAPX"
      },
      "outputs": [],
      "source": [
        "# Rutas de los archivos zip en Google Drive\n",
        "ruta_zip_yolo = '/content/drive/MyDrive/TFM/Sin duplicados/YOLO/Polipos Final Images.v4-bboxdataaugmentation.yolov9.zip'\n",
        "ruta_zip_coco = '/content/drive/MyDrive/TFM/Sin duplicados/COCO/Polipos Final Images.v4-bboxdataaugmentation.coco-segmentation.zip'\n",
        "\n",
        "# Rutas de las carpetas destino\n",
        "ruta_destino_yolo = '/content/dataset_yolo_4'\n",
        "ruta_destino_coco = '/content/dataset_coco_4'"
      ]
    },
    {
      "cell_type": "code",
      "execution_count": 22,
      "metadata": {
        "colab": {
          "base_uri": "https://localhost:8080/"
        },
        "id": "qSEd-8TrEa_G",
        "outputId": "b609d700-a44c-4fa3-d38a-28c4860764a8"
      },
      "outputs": [
        {
          "name": "stdout",
          "output_type": "stream",
          "text": [
            "Archivos descomprimidos en /content/dataset_yolo_4 y /content/dataset_coco_4\n",
            "Movido /content/dataset_coco_4/train/_annotations.coco.json a /content/dataset_yolo_4/train/annotations.json\n",
            "Movido /content/dataset_coco_4/test/_annotations.coco.json a /content/dataset_yolo_4/test/annotations.json\n",
            "Movido /content/dataset_coco_4/valid/_annotations.coco.json a /content/dataset_yolo_4/valid/annotations.json\n",
            "Archivos y anotaciones actualizadas en /content/dataset_yolo_4/train/images y /content/dataset_yolo_4/train/labels\n",
            "Archivos y anotaciones actualizadas en /content/dataset_yolo_4/test/images y /content/dataset_yolo_4/test/labels\n",
            "Archivos y anotaciones actualizadas en /content/dataset_yolo_4/valid/images y /content/dataset_yolo_4/valid/labels\n"
          ]
        }
      ],
      "source": [
        "# Crear las carpetas destino si no existen\n",
        "os.makedirs(ruta_destino_yolo, exist_ok=True)\n",
        "os.makedirs(ruta_destino_coco, exist_ok=True)\n",
        "\n",
        "# Descomprimir los archivos zip\n",
        "with zipfile.ZipFile(ruta_zip_yolo, 'r') as zip_ref:\n",
        "    zip_ref.extractall(ruta_destino_yolo)\n",
        "\n",
        "with zipfile.ZipFile(ruta_zip_coco, 'r') as zip_ref:\n",
        "    zip_ref.extractall(ruta_destino_coco)\n",
        "\n",
        "print(f'Archivos descomprimidos en {ruta_destino_yolo} y {ruta_destino_coco}')\n",
        "\n",
        "# Mover los archivos _annotations.coco.json a las carpetas correspondientes en YOLO\n",
        "for split in ['train', 'test', 'valid']:\n",
        "    coco_annotations_path = os.path.join(ruta_destino_coco, split, '_annotations.coco.json')\n",
        "    yolo_annotations_path = os.path.join(ruta_destino_yolo, split, 'annotations.json')\n",
        "    if os.path.exists(coco_annotations_path):\n",
        "        shutil.move(coco_annotations_path, yolo_annotations_path)\n",
        "        print(f'Movido {coco_annotations_path} a {yolo_annotations_path}')\n",
        "    else:\n",
        "        print(f'No se encontró {coco_annotations_path}')\n",
        "\n",
        "# Función para renombrar archivos y actualizar anotaciones COCO\n",
        "def renombrar_archivos_y_actualizar_anotaciones(carpeta_imagenes, carpeta_etiquetas, annotations_path, DataAugmentation):\n",
        "    # Cargar anotaciones COCO\n",
        "    with open(annotations_path, 'r') as f:\n",
        "        coco_data = json.load(f)\n",
        "\n",
        "    imagen_id_lookup = {image['file_name']: image['id'] for image in coco_data['images']}\n",
        "\n",
        "    for nombre_archivo in os.listdir(carpeta_imagenes):\n",
        "        if nombre_archivo.endswith('.jpg'):\n",
        "            nuevo_nombre_base = re.sub(r'_jpg\\.rf\\.[a-f0-9]{32}', '', nombre_archivo)\n",
        "            nuevo_nombre, ext = os.path.splitext(nuevo_nombre_base)\n",
        "\n",
        "            ruta_actual_imagen = os.path.join(carpeta_imagenes, nombre_archivo)\n",
        "\n",
        "            if DataAugmentation:\n",
        "                contador = 1\n",
        "                nuevo_nombre_con_numero = f\"{nuevo_nombre}_{contador}{ext}\"\n",
        "                nueva_ruta_imagen = os.path.join(carpeta_imagenes, nuevo_nombre_con_numero)\n",
        "\n",
        "                while os.path.exists(nueva_ruta_imagen):\n",
        "                    contador += 1\n",
        "                    nuevo_nombre_con_numero = f\"{nuevo_nombre}_{contador}{ext}\"\n",
        "                    nueva_ruta_imagen = os.path.join(carpeta_imagenes, nuevo_nombre_con_numero)\n",
        "            else:\n",
        "                nueva_ruta_imagen = os.path.join(carpeta_imagenes, f\"{nuevo_nombre}{ext}\")\n",
        "\n",
        "            # Renombrar la imagen\n",
        "            os.rename(ruta_actual_imagen, nueva_ruta_imagen)\n",
        "\n",
        "            # Renombrar el archivo de etiqueta correspondiente\n",
        "            etiqueta_actual = os.path.join(carpeta_etiquetas, nombre_archivo.replace('.jpg', '.txt'))\n",
        "            etiqueta_nueva = os.path.join(carpeta_etiquetas, nuevo_nombre_con_numero.replace('.jpg', '.txt') if DataAugmentation else f\"{nuevo_nombre}{ext}\".replace('.jpg', '.txt'))\n",
        "            if os.path.exists(etiqueta_actual):\n",
        "                os.rename(etiqueta_actual, etiqueta_nueva)\n",
        "\n",
        "            # Actualizar el nombre de la imagen en las anotaciones COCO\n",
        "            if nombre_archivo in imagen_id_lookup:\n",
        "                image_id = imagen_id_lookup[nombre_archivo]\n",
        "                for image in coco_data['images']:\n",
        "                    if image['id'] == image_id:\n",
        "                        image['file_name'] = nuevo_nombre_con_numero if DataAugmentation else f\"{nuevo_nombre}{ext}\"\n",
        "                        break\n",
        "\n",
        "    # Guardar las anotaciones COCO actualizadas\n",
        "    with open(annotations_path, 'w') as f:\n",
        "        json.dump(coco_data, f, indent=4)\n",
        "\n",
        "    print(f'Archivos y anotaciones actualizadas en {carpeta_imagenes} y {carpeta_etiquetas}')\n",
        "\n",
        "# Renombrar archivos y actualizar anotaciones COCO para cada split\n",
        "for split in ['train', 'test', 'valid']:\n",
        "    carpeta_imagenes = os.path.join(ruta_destino_yolo, split, 'images')\n",
        "    carpeta_etiquetas = os.path.join(ruta_destino_yolo, split, 'labels')\n",
        "    annotations_path = os.path.join(ruta_destino_yolo, split, 'annotations.json')\n",
        "    if os.path.exists(carpeta_imagenes) and os.path.exists(carpeta_etiquetas) and os.path.exists(annotations_path):\n",
        "        DataAugmentation = (split == 'train')  # Suponiendo que solo se usa DataAugmentation en el conjunto de entrenamiento\n",
        "        renombrar_archivos_y_actualizar_anotaciones(carpeta_imagenes, carpeta_etiquetas, annotations_path, DataAugmentation)\n",
        "    else:\n",
        "        print(f'No se encontró la carpeta de imágenes, etiquetas o anotaciones para {split}')\n"
      ]
    },
    {
      "cell_type": "markdown",
      "metadata": {
        "id": "5YS9yymYMFEO"
      },
      "source": [
        "# Arregla las categorias de Coco\n"
      ]
    },
    {
      "cell_type": "code",
      "execution_count": 23,
      "metadata": {
        "colab": {
          "base_uri": "https://localhost:8080/"
        },
        "id": "UyjzDW1OMEJQ",
        "outputId": "80624511-6ea8-4471-94e1-d9b86eee258a"
      },
      "outputs": [
        {
          "name": "stdout",
          "output_type": "stream",
          "text": [
            "Anotaciones corregidas en /content/dataset_yolo_4/train/annotations.json\n",
            "Anotaciones corregidas en /content/dataset_yolo_4/test/annotations.json\n",
            "Anotaciones corregidas en /content/dataset_yolo_4/valid/annotations.json\n"
          ]
        }
      ],
      "source": [
        "# Función para cargar las categorías desde data.yaml de YOLO\n",
        "def cargar_categorias_desde_yaml(ruta_yaml):\n",
        "    with open(ruta_yaml, 'r') as f:\n",
        "        data = yaml.safe_load(f)\n",
        "        if 'names' in data:\n",
        "            return data['names']\n",
        "        else:\n",
        "            return None\n",
        "\n",
        "# Función para corregir las anotaciones COCO\n",
        "def corregir_anotaciones_coco(annotations_path, nombres_categorias):\n",
        "    with open(annotations_path, 'r') as f:\n",
        "        coco_data = json.load(f)\n",
        "\n",
        "    # Obtener las categorías actuales\n",
        "    categorias = coco_data.get('categories', [])\n",
        "\n",
        "    # Eliminar la categoría con id 0 si existe\n",
        "    categorias = [cat for cat in categorias if cat['id'] != 0]\n",
        "\n",
        "    # Verificar y corregir las supercategories\n",
        "    for cat in categorias:\n",
        "        if 'supercategory' not in cat or cat['supercategory'] != cat['name']:\n",
        "            cat['supercategory'] = cat['name']\n",
        "\n",
        "    # Verificar y corregir el orden y los nombres según nombres_categorias\n",
        "    for i, nombre in enumerate(nombres_categorias, start=1):\n",
        "        if i <= len(categorias):\n",
        "            categorias[i-1]['name'] = nombre\n",
        "        else:\n",
        "            categorias.append({\n",
        "                'id': i,\n",
        "                'name': nombre,\n",
        "                'supercategory': nombre\n",
        "            })\n",
        "\n",
        "    # Actualizar las categorías en coco_data\n",
        "    coco_data['categories'] = categorias\n",
        "\n",
        "    # Guardar las anotaciones COCO actualizadas\n",
        "    with open(annotations_path, 'w') as f:\n",
        "        json.dump(coco_data, f, indent=4)\n",
        "\n",
        "    print(f'Anotaciones corregidas en {annotations_path}')\n",
        "\n",
        "# Rutas de los archivos y carpetas relevantes\n",
        "ruta_data_yaml = os.path.join(ruta_destino_yolo, 'data.yaml')\n",
        "\n",
        "# Cargar nombres de categorías desde data.yaml de YOLO\n",
        "nombres_categorias = cargar_categorias_desde_yaml(ruta_data_yaml)\n",
        "\n",
        "if nombres_categorias:\n",
        "    # Corregir anotaciones COCO para cada split\n",
        "    for split in ['train', 'test', 'valid']:\n",
        "        annotations_path = os.path.join(ruta_destino_yolo, split, 'annotations.json')\n",
        "        if os.path.exists(annotations_path):\n",
        "            corregir_anotaciones_coco(annotations_path, nombres_categorias)\n",
        "        else:\n",
        "            print(f'No se encontraron anotaciones en {annotations_path}')\n",
        "else:\n",
        "    print(f'No se pudieron cargar las categorías desde {ruta_data_yaml}')\n"
      ]
    },
    {
      "cell_type": "markdown",
      "metadata": {
        "id": "BhkK57GZFj2T"
      },
      "source": [
        "#Muevo los resultados a mi drive"
      ]
    },
    {
      "cell_type": "code",
      "execution_count": 24,
      "metadata": {
        "colab": {
          "base_uri": "https://localhost:8080/"
        },
        "id": "tK_gQilJFhQG",
        "outputId": "aad76f78-40e3-4625-c0c2-f5cf3052704d"
      },
      "outputs": [
        {
          "name": "stdout",
          "output_type": "stream",
          "text": [
            "Directorio copiado de /content/dataset_yolo_4 a /content/drive/MyDrive/TFM/Sin duplicados/Yolo&Coco/All_Data_Augmentation\n"
          ]
        }
      ],
      "source": [
        "import shutil\n",
        "# Directorio de origen\n",
        "src_dir = ruta_destino_yolo\n",
        "\n",
        "# Directorio de destino\n",
        "dest_dir = \"/content/drive/MyDrive/TFM/Sin duplicados/Yolo&Coco/All_Data_Augmentation\"\n",
        "\n",
        "def copy_directory(src, dest):\n",
        "    if not os.path.exists(dest):\n",
        "        os.makedirs(dest)\n",
        "\n",
        "    for root, dirs, files in os.walk(src):\n",
        "        for name in dirs:\n",
        "            src_dir = os.path.join(root, name)\n",
        "            dest_dir = os.path.join(dest, os.path.relpath(src_dir, src))\n",
        "            if not os.path.exists(dest_dir):\n",
        "                os.makedirs(dest_dir)\n",
        "\n",
        "        for name in files:\n",
        "            src_file = os.path.join(root, name)\n",
        "            dest_file = os.path.join(dest, os.path.relpath(src_file, src))\n",
        "            if not os.path.exists(os.path.dirname(dest_file)):\n",
        "                os.makedirs(os.path.dirname(dest_file))\n",
        "            shutil.copy2(src_file, dest_file)\n",
        "\n",
        "# Copiar el directorio de origen al directorio de destino\n",
        "copy_directory(src_dir, dest_dir)\n",
        "\n",
        "print(f\"Directorio copiado de {src_dir} a {dest_dir}\")"
      ]
    }
  ],
  "metadata": {
    "colab": {
      "authorship_tag": "ABX9TyMcS4OHzdaLwLWR2vKOzRj9",
      "include_colab_link": true,
      "provenance": []
    },
    "kernelspec": {
      "display_name": "Python 3",
      "name": "python3"
    },
    "language_info": {
      "name": "python"
    }
  },
  "nbformat": 4,
  "nbformat_minor": 0
}
